{
 "cells": [
  {
   "cell_type": "code",
   "execution_count": 1,
   "metadata": {},
   "outputs": [],
   "source": [
    "import random\n",
    "import numpy\n",
    "import numpy as np\n",
    "import csv\n",
    "from deap import tools\n",
    "import os\n",
    "import pandas as pd\n",
    "from sklearn.model_selection import train_test_split"
   ]
  },
  {
   "cell_type": "code",
   "execution_count": 2,
   "metadata": {},
   "outputs": [],
   "source": [
    "PATH_EXAMPLE_DATASET = 'data'"
   ]
  },
  {
   "cell_type": "code",
   "execution_count": 3,
   "metadata": {},
   "outputs": [],
   "source": [
    "PATH_DATASET =  os.path.join(PATH_EXAMPLE_DATASET, 'wav75_ex1_.csv')"
   ]
  },
  {
   "cell_type": "code",
   "execution_count": 4,
   "metadata": {},
   "outputs": [
    {
     "data": {
      "text/plain": [
       "'data/wav75_ex1_.csv'"
      ]
     },
     "execution_count": 4,
     "metadata": {},
     "output_type": "execute_result"
    }
   ],
   "source": [
    "PATH_DATASET"
   ]
  },
  {
   "cell_type": "code",
   "execution_count": 5,
   "metadata": {},
   "outputs": [],
   "source": [
    "df = pd.read_csv(PATH_DATASET, header = None)"
   ]
  },
  {
   "cell_type": "markdown",
   "metadata": {},
   "source": [
    "Balance dataset with pandas"
   ]
  },
  {
   "cell_type": "code",
   "execution_count": 6,
   "metadata": {},
   "outputs": [],
   "source": [
    "data_columns = list(range(0,75))\n",
    "#label_column = 76\n",
    "label_column = 75\n",
    "test_size = 0.3\n",
    "classes = df[label_column].unique()\n",
    "balance = 1\n"
   ]
  },
  {
   "cell_type": "code",
   "execution_count": 7,
   "metadata": {},
   "outputs": [],
   "source": [
    "df_splits = []\n",
    "for cl in classes:\n",
    "    df_splits.append(df.drop(df.index[df[label_column] == cl]))\n",
    "\n",
    "#df_class0 = df.drop(df.index[df[label_column] == 0])\n",
    "#df_class1 = df.drop(df.index[df[label_column] == 1])"
   ]
  },
  {
   "cell_type": "code",
   "execution_count": 8,
   "metadata": {},
   "outputs": [],
   "source": [
    "minor_class_len = min([x.shape[0] for x in df_splits])\n",
    "\n",
    "if balance:\n",
    "    df_splits_balanced = []\n",
    "    for split in df_splits:\n",
    "        df_splits_balanced.append(split.sample(n = minor_class_len))\n",
    "    \n",
    "    df_splits = df_splits_balanced\n",
    "\n",
    "df_train = []\n",
    "df_test  = []\n",
    "for split in df_splits:\n",
    "    t1, t2 = train_test_split(split, test_size = test_size)\n",
    "    df_train.append(t1)\n",
    "    df_test.append(t2)"
   ]
  },
  {
   "cell_type": "code",
   "execution_count": 16,
   "metadata": {},
   "outputs": [],
   "source": [
    "test = pd.concat(df_test, ignore_index = True)\n",
    "train = pd.concat(df_train, ignore_index = True)"
   ]
  },
  {
   "cell_type": "code",
   "execution_count": null,
   "metadata": {},
   "outputs": [],
   "source": []
  },
  {
   "cell_type": "code",
   "execution_count": null,
   "metadata": {},
   "outputs": [],
   "source": []
  },
  {
   "cell_type": "code",
   "execution_count": null,
   "metadata": {},
   "outputs": [],
   "source": []
  },
  {
   "cell_type": "code",
   "execution_count": 28,
   "metadata": {},
   "outputs": [],
   "source": [
    "def read_dataset_list(path, files = \"\", header=None):\n",
    "        '''\n",
    "        Read and concat a list of datasets\n",
    "        \n",
    "        inputs: \n",
    "            1. path: if files = \"\", path is a list with the whole path\n",
    "            to the files, including the file name. Otherwise is only\n",
    "            the path to the datasets folder.\n",
    "            2. files: A list with the datasets names.\n",
    "            3. header:int, list of int, 'infer', default None\n",
    "            \n",
    "            returns: Dataset composed by all of the list\n",
    "        '''\n",
    "        \n",
    "        df_list = []\n",
    "        \n",
    "        if files == \"\":\n",
    "            files_path = path\n",
    "        else:\n",
    "            files_path = [os.path.join(path, x) for x in files]\n",
    "        \n",
    "        for file in files_path:\n",
    "            df_list.append(pd.read_csv(file, header = None))\n",
    "        \n",
    "        return pd.concat(df_list, ignore_index = True)    "
   ]
  },
  {
   "cell_type": "code",
   "execution_count": 29,
   "metadata": {},
   "outputs": [
    {
     "data": {
      "text/plain": [
       "'data/wav75_ex1_.csv'"
      ]
     },
     "execution_count": 29,
     "metadata": {},
     "output_type": "execute_result"
    }
   ],
   "source": [
    "PATH_DATASET"
   ]
  },
  {
   "cell_type": "code",
   "execution_count": 32,
   "metadata": {},
   "outputs": [],
   "source": [
    "dd = read_dataset_list(PATH_EXAMPLE_DATASET, ['wav75_ex1_.csv','wav75_ex2_.csv','wav75_ex3_.csv','wav75_ex4_.csv','wav75_ex5_.csv','wav75_ex6_.csv','wav75_ex7_.csv','wav75_ex8_.csv'])"
   ]
  },
  {
   "cell_type": "code",
   "execution_count": 33,
   "metadata": {},
   "outputs": [
    {
     "data": {
      "text/plain": [
       "865"
      ]
     },
     "execution_count": 33,
     "metadata": {},
     "output_type": "execute_result"
    }
   ],
   "source": [
    "sum(dd[76])"
   ]
  },
  {
   "cell_type": "code",
   "execution_count": 34,
   "metadata": {},
   "outputs": [
    {
     "data": {
      "text/plain": [
       "296"
      ]
     },
     "execution_count": 34,
     "metadata": {},
     "output_type": "execute_result"
    }
   ],
   "source": [
    "sum(dd[75])"
   ]
  },
  {
   "cell_type": "code",
   "execution_count": null,
   "metadata": {},
   "outputs": [],
   "source": []
  }
 ],
 "metadata": {
  "kernelspec": {
   "display_name": "Python 3",
   "language": "python",
   "name": "python3"
  },
  "language_info": {
   "codemirror_mode": {
    "name": "ipython",
    "version": 3
   },
   "file_extension": ".py",
   "mimetype": "text/x-python",
   "name": "python",
   "nbconvert_exporter": "python",
   "pygments_lexer": "ipython3",
   "version": "3.5.2"
  }
 },
 "nbformat": 4,
 "nbformat_minor": 2
}
