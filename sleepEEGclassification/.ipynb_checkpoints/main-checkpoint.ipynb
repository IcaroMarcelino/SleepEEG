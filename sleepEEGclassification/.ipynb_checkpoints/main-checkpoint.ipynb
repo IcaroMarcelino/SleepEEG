{
 "cells": [
  {
   "cell_type": "markdown",
   "metadata": {},
   "source": [
    "> ## Parallelism/Optimization\n",
    "> This code is optmized with core multiprocessing. On variable **USE_MULTIPROCESSING** set the maximum number of parallel operations that the program can run.  \n",
    "> If you don't use it, set `USE_MULTIPROCESSING = 0`"
   ]
  },
  {
   "cell_type": "code",
   "execution_count": 1,
   "metadata": {},
   "outputs": [
    {
     "name": "stdout",
     "output_type": "stream",
     "text": [
      "Using 4 parallel tasks\n"
     ]
    }
   ],
   "source": [
    "import psutil\n",
    "USE_MULTIPROCESSING = psutil.cpu_count()\n",
    "\n",
    "print('Using ' + str(USE_MULTIPROCESSING) + ' parallel tasks')"
   ]
  },
  {
   "cell_type": "markdown",
   "metadata": {},
   "source": [
    "> ## Library imports"
   ]
  },
  {
   "cell_type": "code",
   "execution_count": 2,
   "metadata": {},
   "outputs": [],
   "source": [
    "import os, shutil\n",
    "import sys\n",
    "\n",
    "if not sys.warnoptions:\n",
    "    import warnings\n",
    "    warnings.simplefilter(\"ignore\")\n",
    "    \n",
    "if os.path.isdir(\"__pycache__\"):\n",
    "    shutil.rmtree(\"__pycache__\")\n",
    "\n",
    "# Our code\n",
    "from modules.balance_dataset import input_output\n",
    "from modules.evaluation import fitness\n",
    "from modules.utils import results_folder\n",
    "from modules import visualize\n",
    "from modules import operator_set\n",
    "\n",
    "import operator\n",
    "\n",
    "from deap import algorithms\n",
    "from deap import base\n",
    "from deap import creator\n",
    "from deap import tools\n",
    "from deap import gp\n",
    "from deap import tools\n",
    "\n",
    "from modules.statistics import runtime_metrics\n",
    "import time\n",
    "import numpy as np\n",
    "import math\n",
    "import random\n",
    "\n",
    "import pandas as pd\n",
    "\n",
    "if USE_MULTIPROCESSING > 0:\n",
    "    import multiprocessing as mp\n",
    "    from multiprocessing import Pool"
   ]
  },
  {
   "cell_type": "markdown",
   "metadata": {},
   "source": [
    "> ## Files\n",
    "> Set the folder where files are on **DATASET_FOLDER**.  \n",
    "> Specify the data files you want to use on **FILE_LIST**.\n",
    ">  \n",
    "> ### File format\n",
    "> The files must be on csv format without header. One of the columns must be the label column\n",
    ">   \n",
    "> ### Example\n",
    "> The following files are the same data used on our GECCO 2019 paper. The csv files contain the preprocessed data from [DREAMS project](http://www.tcts.fpms.ac.be/~devuyst/Databases/DatabaseSpindles/). Each file represent an patient and each row contain the 75 initial extracted features from an 2 s signal segment.  \n",
    "> The two last columns are the data labels. Column 75 indicates with the label '1' the samples which both specialist agreed that are spindles. Column 76 indicates with the label '1' any sample marked as spindle"
   ]
  },
  {
   "cell_type": "code",
   "execution_count": 3,
   "metadata": {},
   "outputs": [],
   "source": [
    "# DATASET_FOLDER = 'modules/data/2000ms'\n",
    "# FILE_LIST = ['wav75_ex2_.csv','wav75_ex3_.csv','wav75_ex4_.csv','wav75_ex5_.csv','wav75_ex6_.csv','wav75_ex7_.csv','wav75_ex8_.csv']\n",
    "\n",
    "DATASET_FOLDER = 'modules/data/500ms'\n",
    "FILE_LIST = ['wav_ex2_spindles.csv','wav_ex3_spindles.csv','wav_ex4_spindles.csv','wav_ex5_spindles.csv','wav_ex6_spindles.csv','wav_ex7_spindles.csv','wav_ex8_spindles.csv']"
   ]
  },
  {
   "cell_type": "markdown",
   "metadata": {},
   "source": [
    "> ## Importing data\n",
    "> The `ratio` variable sets the proportion `N_spindles/N_not_spindles` samples of the train test"
   ]
  },
  {
   "cell_type": "code",
   "execution_count": 4,
   "metadata": {},
   "outputs": [
    {
     "name": "stdout",
     "output_type": "stream",
     "text": [
      "33.33% of train samples are spindles\n",
      "13.53% of test samples are spindles\n"
     ]
    }
   ],
   "source": [
    "data = input_output.read_dataset_list(DATASET_FOLDER, FILE_LIST)\n",
    "ratio = 1/2\n",
    "X_train, y_train, X_test, y_test = input_output.balance_dataset(data, data_columns = list(range(0,75)), label_column = 75, test_size = 0, ratio = ratio)\n",
    "\n",
    "\n",
    "# I am using patient 1 as test data\n",
    "df = pd.read_csv('modules/data/500ms/wav_ex1_spindles.csv', header = None)\n",
    "X_test = df[df.columns[0:75]].values\n",
    "y_test = df[df.columns[76]].values\n",
    "\n",
    "print(str(round(sum(y_train)*100/len(y_train),2)) + '% of train samples are spindles')\n",
    "print(str(round(sum(y_train)*100/len(y_test),2)) + '% of test samples are spindles')\n",
    "# One hot vector\n",
    "y_train = np.array([[x, int(not x)] for x in y_train])\n",
    "y_test  = np.array([[x, int(not x)] for x in y_test])\n",
    "n_att = 75"
   ]
  },
  {
   "cell_type": "markdown",
   "metadata": {},
   "source": [
    "> ## Evaluation metric\n",
    "> Our *fitness* function optimize one or more classification metrics. On **opt_vars**, select those metrics.\n",
    "> Options:\n",
    "> - **acc**: Accuracy\n",
    "> - **auc**: AUC Score\n",
    "> - **prec_S**: Precision (Spindles as class 1)\n",
    "> - **prec_NS**: Precision (Not spindles as class 1)\n",
    "> - **rec_NS**: Recall (Not Spindles as class 1)\n",
    "> - **rec_S**: Recall (Spindles as class 1)\n",
    "> - **f1_NS**: F1 Score (Not Spindles as class 1)\n",
    "> - **f1_S**: F1 Score (Spindles as class 1)\n",
    "> - **TN**: True Negatives Number\n",
    "> - **FP**: False Positives Number\n",
    "> - **TP**: True Positives Number\n",
    "> - **FN**: False Negatives Number\n",
    ">  \n",
    "> On **wts_vars**, create a tuple with each metric weight. Positive weights mean that the GP will try to maximize the metric. For the negative ones, GP will try to minimize.  \n",
    "> Example:  \n",
    "> `opt_vars = ['FP', 'TP']`    \n",
    "> `wts_vars = tuple([-1, 2])`"
   ]
  },
  {
   "cell_type": "code",
   "execution_count": 5,
   "metadata": {},
   "outputs": [
    {
     "name": "stdout",
     "output_type": "stream",
     "text": [
      "Maximizing (f1_S) with weight (1)\n"
     ]
    }
   ],
   "source": [
    "opt_vars = ['f1_S']\n",
    "wts_vars = tuple([1])\n",
    "eval_func = fitness.eval_function(opt_vars)\n",
    "'''\n",
    "    Result: eval_func -> auc = lambda(y_true, y_pred)\n",
    "\n",
    "    Anothe example:\n",
    "        eval_func = fitness.eval_function(['auc', 'acc'])\n",
    "        Result: eval_func -> auc, acc = lambda(y_true, y_pred)\n",
    "'''\n",
    "'''\n",
    "    Multiparameter optimization\n",
    "    opt_vars -> evaluation metrics\n",
    "    wts_vars -> tuple with each metric weight\n",
    "    \n",
    "    Example: Optimizing False positives and True positives\n",
    "    opt_vars = [FP, TP]\n",
    "    wts_vars = tuple([-1, 2])\n",
    "    \n",
    "    It means that we want to reduce False positives and maximize True positives. And it is more \n",
    "    important to have True positives, because we have set its weight higher.\n",
    "'''\n",
    "for v, w in zip(opt_vars, list(wts_vars)):\n",
    "    if w > 0:\n",
    "        print('Maximizing (' + v + ') with weight (' + str(w) + ')')\n",
    "    else:\n",
    "        print('Minimizing (' + v + ') with weight (' + str(-1*w) + ')')\n"
   ]
  },
  {
   "cell_type": "markdown",
   "metadata": {},
   "source": [
    "> ## Target Classifier   \n",
    "> Our aproach create features that improves a classifier performance. In this code, we set 5 default classifiers (set on variable):\n",
    "> - nb: Naive Bayes  \n",
    "> - dt: Decision Tree  \n",
    "> - mlp: Multilayer Perceptron  \n",
    "> - knn: K Nearest Neighbors  \n",
    "> - svm: Support Vector Machine  \n",
    "> - kmeans: K-means Clustering (Using each cluster as a class of the problem)  \n",
    ">  \n",
    "> If you want to use them, it is necessary to set their parameters:\n",
    "> - nb: \\[None, None\\]\n",
    "> - dt: \\[None, None\\]\n",
    "> - mlp: \\[first hidden layer size,activation function\\]\n",
    "> - knn: \\[K, None\\]\n",
    "> - svm: \\[None,kernel\\]\n",
    "> - kmeans: \\[K, None\\]\n",
    ">  \n",
    "> Example:  \n",
    "> `classifier = 'svm'`   \n",
    "> `clf_param = [None, 'rbf']`  \n",
    "> `external = False`\n",
    ">  \n",
    "> ### Using a different classifier   \n",
    "> If you want to use a different classifier, it needs the following methods (like scikit-learn):\n",
    "> - fit(X,y): Trains the classifier\n",
    "> - predict(X): Returns a predict label array given the data X\n",
    "> - predict_proba(X): Return the predictiom probability for each sample in X\n",
    ">   \n",
    "> Example:  \n",
    "> `from sklearn.ensemble import RandomForestClassifier`  \n",
    "> `classifier = 'rf'`  \n",
    "> `external = RandomForestClassifier(n_estimators=100, max_depth=2, random_state=0)`"
   ]
  },
  {
   "cell_type": "code",
   "execution_count": 6,
   "metadata": {},
   "outputs": [
    {
     "name": "stdout",
     "output_type": "stream",
     "text": [
      "Using nb classifier\n"
     ]
    }
   ],
   "source": [
    "classifier = 'nb'\n",
    "external = False\n",
    "clf_param = [None,None] \n",
    "'''\n",
    "    options:\n",
    "        nb: Naive Bayes; params: None\n",
    "        dt: Decision Tree; params: None\n",
    "        mlp: Multilayer Perceptron; params: [first hidden layer size,activation function]\n",
    "        knn: K Nearest Neighbors; params: [K,-1]\n",
    "        svm: Support Vector Machine; params: [-1,kernel]\n",
    "        kmeans: K-means Clustering (Using each cluster as a class of the problem); params: [number of clusters, -1]\n",
    "        external: Default = False. You can use any classifier, but the following methods (like scikit-learn):\n",
    "            fit(X, y)\n",
    "            predict(X)\n",
    "            predict_proba(X)\n",
    "\n",
    "    Example 1:\n",
    "    from sklearn.ensemble import RandomForestClassifier\n",
    "    classifier = 'rf'\n",
    "    external = RandomForestClassifier(n_estimators=100, max_depth=2, random_state=0)\n",
    "    \n",
    "    Example 2:\n",
    "    classifier = 'nb'\n",
    "    external = False\n",
    "    \n",
    "    Example 3:\n",
    "    classifier = 'svm'\n",
    "    clf_param = [None, 'rbf']\n",
    "    external = False\n",
    "'''\n",
    "print('Using ' + classifier + ' classifier')"
   ]
  },
  {
   "cell_type": "markdown",
   "metadata": {},
   "source": [
    "> ## GP operator set\n",
    "> As described on our paper, we have set protected operators for division, log and square root to avoid math domain problems.  \n",
    "> Check it on **modules/operator_set**"
   ]
  },
  {
   "cell_type": "code",
   "execution_count": 7,
   "metadata": {},
   "outputs": [],
   "source": [
    "pset = gp.PrimitiveSet(\"MAIN\", n_att)\n",
    "pset.addPrimitive(operator.add, 2)\n",
    "pset.addPrimitive(operator.sub, 2)\n",
    "pset.addPrimitive(operator.mul, 2)\n",
    "pset.addPrimitive(operator_set.plog, 1)\n",
    "pset.addPrimitive(operator_set.psqrt, 1)\n",
    "pset.addPrimitive(operator_set.pdiv, 2)\n",
    "pset.addPrimitive(operator_set.F, 1)\n",
    "# pset.addPrimitive(math.sin, 1)\n",
    "# pset.addPrimitive(math.cos, 1)\n",
    "# pset.addPrimitive(operator.neg, 1)"
   ]
  },
  {
   "cell_type": "markdown",
   "metadata": {},
   "source": [
    "> ## GP parameters  \n",
    "> Set here:  \n",
    "> - Population size  \n",
    "> - Number of generations  \n",
    "> - Crossover type and probability  \n",
    "> - Mutation type and probability  \n",
    "> - Individual initialization and selection\n",
    ">  \n",
    ">  Se more parameters types on [DEAP documentation](https://deap.readthedocs.io/en/0.7-0/api/tools.html)"
   ]
  },
  {
   "cell_type": "code",
   "execution_count": 8,
   "metadata": {},
   "outputs": [],
   "source": [
    "# Population size\n",
    "NPOP = 100\n",
    "\n",
    "# Number of generations\n",
    "NGEN = 100\n",
    "\n",
    "# Crossover probability\n",
    "CXPB = .85\n",
    "\n",
    "# Mutation probability\n",
    "MUTPB = .15\n",
    "\n",
    "creator.create(\"FitnessMulti\", base.Fitness, weights = wts_vars)\n",
    "creator.create(\"Individual\", gp.PrimitiveTree, fitness=creator.FitnessMulti)\n",
    "\n",
    "toolbox = base.Toolbox()\n",
    "# Individual and population\n",
    "toolbox.register(\"expr\", gp.genHalfAndHalf, pset=pset, min_=1, max_=3)\n",
    "toolbox.register(\"individual\", tools.initIterate, creator.Individual, toolbox.expr)\n",
    "toolbox.register(\"population\", tools.initRepeat, list, toolbox.individual)\n",
    "toolbox.register(\"compile\", gp.compile, pset=pset)\n",
    "\n",
    "# Evaluation method\n",
    "toolbox.register(\"evaluate\", fitness.eval_tree, clf = classifier, X_train = X_train, y_train = y_train, X_test = X_test, y_true = y_test, pset = pset, opt_vars = opt_vars, eval_func = eval_func, param = clf_param, external = external)\n",
    "\n",
    "# Initialization\n",
    "# toolbox.register(\"expr_init\", gp.genFull, min_=4, max_=7)\n",
    "# toolbox.register(\"expr_init\", gp.genGrow, min_=4, max_=7)\n",
    "toolbox.register(\"expr_init\", gp.genHalfAndHalf, min_=4, max_=7)\n",
    "\n",
    "# Selection\n",
    "toolbox.register(\"select\", tools.selTournament, tournsize=3)\n",
    "# toolbox.register(\"select\", tools.selRoulette)\n",
    "# toolbox.register(\"select\", tools.selRandom)\n",
    "\n",
    "# Crossover\n",
    "toolbox.register(\"mate\", gp.cxOnePoint)\n",
    "# toolbox.register(\"mate\", gp.cxTwoPoint)\n",
    "# toolbox.register(\"mate\", gp.cxcxOnePointLeafBiased, termpb =.1)\n",
    "\n",
    "# Mutation\n",
    "toolbox.register(\"mutate\", gp.mutUniform, expr=toolbox.expr_init, pset=pset)\n",
    "# toolbox.register(\"mutate\", gp.mutNodeReplacement, pset=pset)\n",
    "# toolbox.register(\"mutate\", gp.mutInsert, pset=pset)\n",
    "# toolbox.register(\"mutate\", gp.mutShrink)toolbox.register(\"mutate\", gp.mutEphemeral, mode = 'all')"
   ]
  },
  {
   "cell_type": "markdown",
   "metadata": {},
   "source": [
    "> ## Bloat Control\n",
    "> We have used an simple bloat control limiting the maximum individual tree heigth.  \n",
    "> Set it on **TAM_MAX**. If you have low computational resources, we recommend **TAM_MAX** < 20 \n"
   ]
  },
  {
   "cell_type": "code",
   "execution_count": 9,
   "metadata": {},
   "outputs": [],
   "source": [
    "# Bloat Control\n",
    "TAM_MAX = 10\n",
    "toolbox.decorate(\"mate\", gp.staticLimit(key=operator.attrgetter(\"height\"), max_value = TAM_MAX))\n",
    "toolbox.decorate(\"mutate\", gp.staticLimit(key=operator.attrgetter(\"height\"), max_value = TAM_MAX))"
   ]
  },
  {
   "cell_type": "markdown",
   "metadata": {},
   "source": [
    "> ## Create population 0"
   ]
  },
  {
   "cell_type": "code",
   "execution_count": 10,
   "metadata": {
    "scrolled": true
   },
   "outputs": [],
   "source": [
    "start = time.time()\n",
    "\n",
    "pop = toolbox.population(NPOP)\n",
    "\n",
    "# Much faster!\n",
    "if USE_MULTIPROCESSING > 0:\n",
    "    def ff(ind):\n",
    "        fit = fitness.eval_tree(ind, clf = classifier, X_train = X_train, y_train = y_train, X_test = X_test, y_true = y_test, pset = pset, opt_vars = opt_vars, eval_func = eval_func, param = clf_param, external = external)\n",
    "        if (math.isnan(fit[0])):\n",
    "            ind.fitness.values = 0,\n",
    "        else:\n",
    "            ind.fitness.values = fit\n",
    "        return ind\n",
    "\n",
    "    def fmate(children):\n",
    "        if random.random() < CXPB:\n",
    "            children = toolbox.mate(children[0], children[1])\n",
    "            del children[0].fitness.values\n",
    "            del children[1].fitness.values\n",
    "        return children[0], children[1]\n",
    "    \n",
    "    def fmutate(mutant):\n",
    "        if random.random() < MUTPB:\n",
    "            mutant = toolbox.mutate(mutant)[0]\n",
    "            del mutant.fitness.values\n",
    "        return mutant\n",
    "    \n",
    "    # t1 = time.time()\n",
    "    p = Pool(USE_MULTIPROCESSING)\n",
    "    pop = p.map(ff, pop)\n",
    "    # t2 = time.time()\n",
    "      \n",
    "else:\n",
    "    # t3 = time.time()\n",
    "    fitnesses = list(map(toolbox.evaluate, pop))\n",
    "    \n",
    "    for ind, fit in zip(pop, fitnesses):\n",
    "        ind.fitness.values = fit\n",
    "        if (math.isnan(fit[0])):\n",
    "            ind.fitness.values = 0,\n",
    "        else:\n",
    "            ind.fitness.values = fit\n",
    "    # t4 = time.time()"
   ]
  },
  {
   "cell_type": "markdown",
   "metadata": {},
   "source": [
    "> ## Runtime metrics"
   ]
  },
  {
   "cell_type": "code",
   "execution_count": 11,
   "metadata": {},
   "outputs": [],
   "source": [
    "mstats = runtime_metrics.init_stats()\n",
    "log = tools.Logbook()\n",
    "hof = tools.selBest(pop, 1)\n",
    "\n",
    "# Execution number (identifier)\n",
    "NEXEC = 1\n",
    "\n",
    "# Just an exibition function on terminal\n",
    "def printProgressBar (iteration, total, prefix = '', suffix = '', decimals = 1, length = 100, fill = '|'):\n",
    "    \"\"\"\n",
    "    Call in a loop to create terminal progress bar\n",
    "    @params:\n",
    "        iteration   - Required  : current iteration (Int)\n",
    "        total       - Required  : total iterations (Int)\n",
    "        prefix      - Optional  : prefix string (Str)\n",
    "        suffix      - Optional  : suffix string (Str)\n",
    "        decimals    - Optional  : positive number of decimals in percent complete (Int)\n",
    "        length      - Optional  : character length of bar (Int)\n",
    "        fill        - Optional  : bar fill character (Str)\n",
    "    \"\"\"\n",
    "    percent = (\"{0:.\" + str(decimals) + \"f}\").format(100 * (iteration / float(total)))\n",
    "    filledLength = int(length * iteration // total)\n",
    "    bar = fill * filledLength + '-' * (length - filledLength)\n",
    "    print('\\r%s |%s| %s%% %s' % (prefix, bar, percent, suffix), end = '\\r')\n",
    "    # Print New Line on Complete\n",
    "    if iteration == total: \n",
    "        print()"
   ]
  },
  {
   "cell_type": "markdown",
   "metadata": {},
   "source": [
    "> ## Final settings\n",
    "> Select the verbosity level:  \n",
    "> - `verb = 0`: Nothing\n",
    "> - `verb = 1`: Progress bar\n",
    "> - `verb = 2`: Runtime statistics for each generation"
   ]
  },
  {
   "cell_type": "code",
   "execution_count": 12,
   "metadata": {},
   "outputs": [],
   "source": [
    "# Verbosity level\n",
    "verb = 2\n",
    "\n",
    "# Results folder\n",
    "path = 'result_GP_' + str(NEXEC) + '/'\n",
    "results_folder.verify_create_dir(path)\n",
    "\n",
    "# Log files prefix\n",
    "filename = 'GP_'+ classifier + '_' + 'NEXEC'\n",
    "balance = 1"
   ]
  },
  {
   "cell_type": "markdown",
   "metadata": {},
   "source": [
    "> ## GP starts"
   ]
  },
  {
   "cell_type": "code",
   "execution_count": 13,
   "metadata": {},
   "outputs": [
    {
     "name": "stdout",
     "output_type": "stream",
     "text": [
      ">> (Exec 1) GP + nb - Feature Selection and Construction\n",
      ">> NGEN = 100 | NPOP = 100 | MAX_DEPTH = 10 | PARAM = [None, None]\n",
      ">> Optimizing: ['f1_S']\n",
      ">> Weights:    (1,)\n",
      "   \t    \t                     fitness                     \t           size           \n",
      "   \t    \t-------------------------------------------------\t--------------------------\n",
      "gen\ttime\tavg     \tmax         \tmin \tstd      \tavg        \tstd       \n",
      "0  \t4.64\t[0.1257]\t[0.45955882]\t[0.]\t[0.11835]\t2.396484375\t1.68359375\n",
      "1  \t4.98\t[0.1492]\t[0.45955882]\t[0.]\t[0.1203] \t3.3359375  \t2.53125   \n",
      "2  \t6.66\t[0.2091]\t[0.46979108]\t[0.]\t[0.1289] \t4.16015625 \t2.69140625\n",
      "3  \t9.82\t[0.2537]\t[0.48]      \t[0.]\t[0.1398] \t5.0390625  \t2.58984375\n",
      "4  \t8.89\t[0.279] \t[0.50417362]\t[0.]\t[0.151]  \t5.23828125 \t2.42578125\n",
      "5  \t9.9 \t[0.3574]\t[0.50417362]\t[0.]\t[0.1149] \t6.1796875  \t2.005859375\n",
      "6  \t10.19\t[0.3923]\t[0.50417362]\t[0.]\t[0.1289] \t6.87109375 \t2.02734375 \n",
      "7  \t10.97\t[0.4143]\t[0.50417362]\t[0.]\t[0.1117] \t7.2265625  \t1.7900390625\n",
      "8  \t11.49\t[0.4326]\t[0.50795455]\t[0.]\t[0.0847] \t7.625      \t1.6220703125\n",
      "9  \t12.01\t[0.449] \t[0.51014199]\t[0.]\t[0.0777] \t8.046875   \t1.556640625 \n",
      "10 \t11.97\t[0.464] \t[0.51017042]\t[0.]\t[0.07886]\t8.2265625  \t1.2421875   \n",
      "11 \t14.24\t[0.4702]\t[0.51922006]\t[0.23764259]\t[0.0498] \t8.2734375  \t1.2197265625\n",
      "12 \t12.76\t[0.4622]\t[0.51922006]\t[0.]        \t[0.0969] \t8.25       \t1.25390625  \n",
      "13 \t13.85\t[0.4812]\t[0.52068395]\t[0.20184413]\t[0.05756]\t8.3359375  \t1.0078125   \n",
      "14 \t13.11\t[0.4778]\t[0.52262443]\t[0.]        \t[0.0724] \t8.0078125  \t1.1298828125\n",
      "15 \t14.86\t[0.4744]\t[0.52383562]\t[0.]        \t[0.08673]\t8.1796875  \t1.12890625  \n",
      "16 \t14.55\t[0.4746]\t[0.52383562]\t[0.]        \t[0.09033]\t8.234375   \t1.1357421875\n",
      "17 \t14.8 \t[0.4976]\t[0.52383562]\t[0.22387352]\t[0.0474] \t8.484375   \t1.1484375   \n",
      "18 \t14.72\t[0.493] \t[0.52383562]\t[0.19881839]\t[0.0626] \t8.8046875  \t1.1435546875\n",
      "19 \t14.5 \t[0.503] \t[0.52493151]\t[0.22498195]\t[0.04395]\t8.8828125  \t1.1015625   \n",
      "20 \t15.65\t[0.5015]\t[0.52493151]\t[0.20098472]\t[0.05157]\t9.0625     \t0.91015625  \n",
      "21 \t14.53\t[0.504] \t[0.52493151]\t[0.21036107]\t[0.04248]\t8.953125   \t1.0087890625\n",
      "22 \t14.29\t[0.502] \t[0.52493151]\t[0.19956225]\t[0.04404]\t8.875      \t1.0107421875\n",
      "23 \t15.36\t[0.4917]\t[0.5260274] \t[0.]        \t[0.0755] \t8.7109375  \t1.197265625 \n",
      "24 \t15.19\t[0.499] \t[0.52618904]\t[0.]        \t[0.06445]\t8.9375     \t0.87646484375\n",
      "25 \t16.6 \t[0.4973]\t[0.52618904]\t[0.]        \t[0.0799] \t8.875      \t1.3544921875 \n",
      "26 \t16.18\t[0.4988]\t[0.52712329]\t[0.]        \t[0.0609] \t8.9609375  \t0.97412109375\n",
      "27 \t14.86\t[0.4849]\t[0.52785924]\t[0.]        \t[0.08856]\t8.7890625  \t1.2685546875 \n",
      "28 \t15.76\t[0.502] \t[0.52785924]\t[0.277138]  \t[0.03842]\t8.84375    \t0.80517578125\n",
      "29 \t15.63\t[0.505] \t[0.52785924]\t[0.19739052]\t[0.0461] \t8.953125   \t0.775390625  \n",
      "30 \t15.87\t[0.5024]\t[0.52785924]\t[0.20196855]\t[0.0543] \t8.9765625  \t0.75732421875\n",
      "31 \t16.42\t[0.4973]\t[0.52785924]\t[0.20085794]\t[0.06384]\t8.9296875  \t0.85888671875\n",
      "32 \t17.19\t[0.494] \t[0.52919255]\t[0.]        \t[0.08014]\t9.03125    \t0.87255859375\n",
      "33 \t16.52\t[0.504] \t[0.52919255]\t[0.]        \t[0.06232]\t9.0        \t0.783203125  \n",
      "34 \t17.31\t[0.504] \t[0.52919255]\t[0.20294726]\t[0.04922]\t8.921875   \t0.9716796875 \n",
      "35 \t28.99\t[0.4988]\t[0.52959502]\t[0.]        \t[0.0758] \t8.9296875  \t0.82373046875\n",
      "36 \t1878.1\t[0.501] \t[0.53025577]\t[0.19938854]\t[0.05914]\t8.8984375  \t0.88427734375\n",
      "37 \t15.44 \t[0.4927]\t[0.53084112]\t[0.21377029]\t[0.0546] \t8.8046875  \t1.134765625  \n",
      "38 \t16.23 \t[0.502] \t[0.53084112]\t[0.20185376]\t[0.0462] \t9.0        \t1.0244140625 \n",
      "39 \t15.97 \t[0.4998]\t[0.53084112]\t[0.]        \t[0.05945]\t8.9296875  \t1.1103515625 \n",
      "40 \t15.17 \t[0.4944]\t[0.53117207]\t[0.05736894]\t[0.0684] \t9.046875   \t1.23828125   \n",
      "41 \t16.84 \t[0.4944]\t[0.53117207]\t[0.20081482]\t[0.06647]\t9.2265625  \t0.92138671875\n",
      "42 \t16.9  \t[0.4873]\t[0.53117207]\t[0.19984346]\t[0.0683] \t9.2578125  \t1.0009765625 \n",
      "43 \t17.42 \t[0.4954]\t[0.53117207]\t[0.]        \t[0.0756] \t9.15625    \t1.3623046875 \n",
      "44 \t16.42 \t[0.4802]\t[0.53221957]\t[0.]        \t[0.1034] \t9.328125   \t1.1787109375 \n",
      "45 \t15.46 \t[0.4905]\t[0.53221957]\t[0.19694397]\t[0.07166]\t8.9765625  \t1.3427734375 \n",
      "46 \t15.81 \t[0.4734]\t[0.53301606]\t[0.]        \t[0.1088] \t9.25       \t1.3447265625 \n",
      "47 \t16.02 \t[0.4873]\t[0.53301606]\t[0.]        \t[0.08704]\t9.1953125  \t1.392578125  \n",
      "48 \t16.37 \t[0.496] \t[0.53301606]\t[0.]        \t[0.076]  \t9.3359375  \t1.228515625  \n",
      "49 \t15.98 \t[0.4734]\t[0.53301606]\t[0.]        \t[0.11304]\t9.3046875  \t1.4404296875 \n",
      "50 \t18    \t[0.504] \t[0.53301606]\t[0.25977444]\t[0.04956]\t9.546875   \t1.1123046875 \n",
      "51 \t19.05 \t[0.4966]\t[0.53333333]\t[0.19693964]\t[0.06174]\t9.84375    \t0.55810546875\n",
      "52 \t18.54 \t[0.5054]\t[0.53333333]\t[0.22744415]\t[0.056]  \t9.765625   \t0.70556640625\n",
      "53 \t19.67 \t[0.4973]\t[0.53333333]\t[0.]        \t[0.0869] \t9.6953125  \t0.919921875  \n",
      "54 \t19.71 \t[0.504] \t[0.53333333]\t[0.20072582]\t[0.0632] \t9.875      \t0.3349609375 \n",
      "55 \t20.05 \t[0.5176]\t[0.53365098]\t[0.19992221]\t[0.04074]\t9.8984375  \t0.330078125  \n",
      "56 \t21.62 \t[0.514] \t[0.53333333]\t[0.20073859]\t[0.0507] \t9.875      \t0.4375       \n",
      "57 \t21.53 \t[0.518] \t[0.53333333]\t[0.21524158]\t[0.0364] \t9.921875   \t0.33544921875\n",
      "58 \t21.88 \t[0.5205]\t[0.53365098]\t[0.20118792]\t[0.04166]\t9.9609375  \t0.278564453125\n",
      "59 \t21.7  \t[0.511] \t[0.53365098]\t[0.0990991] \t[0.06036]\t9.953125   \t0.258544921875\n",
      "60 \t20.78 \t[0.5166]\t[0.53365098]\t[0.12590299]\t[0.05356]\t9.96875    \t0.220458984375\n",
      "61 \t21.49 \t[0.51]  \t[0.53365098]\t[0.19057138]\t[0.0594] \t9.9140625  \t0.447265625   \n",
      "62 \t21.21 \t[0.5146]\t[0.53396901]\t[0.20114943]\t[0.0519] \t9.921875   \t0.481201171875\n",
      "63 \t21.05 \t[0.518] \t[0.53396901]\t[0.20007656]\t[0.04187]\t9.9921875  \t0.0989990234375\n",
      "64 \t21.52 \t[0.5225]\t[0.53428742]\t[0.20805457]\t[0.03537]\t9.96875    \t0.220458984375 \n",
      "65 \t21.6  \t[0.5186]\t[0.53428742]\t[0.20587854]\t[0.03973]\t9.9765625  \t0.139404296875 \n",
      "66 \t20.47 \t[0.512] \t[0.53428742]\t[0.19498911]\t[0.0543] \t9.8828125  \t0.428955078125 \n",
      "67 \t20.45 \t[0.517] \t[0.53428742]\t[0.20518135]\t[0.04343]\t9.9375     \t0.41796875     \n",
      "68 \t20.25 \t[0.5225]\t[0.53428742]\t[0.31640534]\t[0.02638]\t9.9609375  \t0.278564453125 \n",
      "69 \t20.57 \t[0.52]  \t[0.53428742]\t[0.36924773]\t[0.02867]\t9.96875    \t0.220458984375 \n",
      "70 \t20.53 \t[0.517] \t[0.53460621]\t[0.20314548]\t[0.05075]\t9.9375     \t0.33935546875  \n",
      "71 \t20.67 \t[0.515] \t[0.53460621]\t[0.20639342]\t[0.04752]\t9.9765625  \t0.197998046875 \n",
      "72 \t20.79 \t[0.52]  \t[0.53460621]\t[0.43774668]\t[0.02191]\t9.9140625  \t0.400390625    \n",
      "73 \t21.17 \t[0.519] \t[0.53460621]\t[0.1813602] \t[0.0432] \t9.8984375  \t0.65234375     \n",
      "74 \t20.39 \t[0.517] \t[0.53460621]\t[0.24160025]\t[0.0402] \t9.921875   \t0.389892578125 \n",
      "75 \t20.34 \t[0.521] \t[0.53460621]\t[0.28939034]\t[0.03558]\t9.953125   \t0.294189453125 \n",
      "76 \t20.18 \t[0.5166]\t[0.53460621]\t[0.00943396]\t[0.05768]\t9.8984375  \t0.433837890625 \n",
      "77 \t20.45 \t[0.5166]\t[0.53460621]\t[0.19760805]\t[0.05103]\t9.875      \t0.6240234375   \n",
      "78 \t20.53 \t[0.5103]\t[0.53460621]\t[0.15974166]\t[0.05243]\t9.875      \t0.71240234375  \n",
      "79 \t20.97 \t[0.511] \t[0.53460621]\t[0.20260078]\t[0.05692]\t9.9375     \t0.30908203125  \n",
      "80 \t20.75 \t[0.5093]\t[0.53460621]\t[0.]        \t[0.07025]\t9.921875   \t0.33544921875  \n",
      "81 \t20.41 \t[0.5166]\t[0.53460621]\t[0.31869998]\t[0.03397]\t9.96875    \t0.169677734375 \n",
      "82 \t20.08 \t[0.511] \t[0.53460621]\t[0.2015406] \t[0.05966]\t10.0       \t0.0            \n",
      "83 \t19.93 \t[0.512] \t[0.53460621]\t[0.20281254]\t[0.05417]\t9.96875    \t0.220458984375 \n",
      "84 \t19.89 \t[0.5073]\t[0.53460621]\t[0.20472843]\t[0.0664] \t10.0       \t0.0            \n",
      "85 \t19.42 \t[0.505] \t[0.53460621]\t[0.]        \t[0.0785] \t9.84375    \t0.77978515625  \n",
      "86 \t21.06 \t[0.5093]\t[0.53460621]\t[0.16415174]\t[0.05923]\t9.890625   \t0.61181640625  \n",
      "87 \t21.31 \t[0.5107]\t[0.53460621]\t[0.19013103]\t[0.05212]\t9.84375    \t0.7275390625   \n",
      "88 \t20.56 \t[0.5195]\t[0.53460621]\t[0.40450974]\t[0.02687]\t9.96875    \t0.169677734375 \n",
      "89 \t20.52 \t[0.509] \t[0.53524492]\t[0.19427083]\t[0.0666] \t9.9375     \t0.30908203125  \n",
      "90 \t19.94 \t[0.512] \t[0.53460621]\t[0.20888889]\t[0.04865]\t9.9375     \t0.275146484375 \n",
      "91 \t21.27 \t[0.516] \t[0.53460621]\t[0.29031592]\t[0.0389] \t9.9921875  \t0.0989990234375\n",
      "92 \t19.98 \t[0.504] \t[0.53460621]\t[0.]        \t[0.08307]\t9.8046875  \t0.912109375    \n",
      "93 \t20.23 \t[0.5166]\t[0.53460621]\t[0.30169212]\t[0.0375] \t9.953125   \t0.294189453125 \n",
      "94 \t19.62 \t[0.5083]\t[0.53524492]\t[0.2047546] \t[0.05875]\t9.9296875  \t0.42822265625  \n",
      "95 \t20.53 \t[0.503] \t[0.53524492]\t[0.]        \t[0.08344]\t9.875      \t0.6845703125   \n",
      "96 \t20.02 \t[0.5146]\t[0.53524492]\t[0.20133384]\t[0.0514] \t10.0       \t0.0            \n"
     ]
    },
    {
     "name": "stdout",
     "output_type": "stream",
     "text": [
      "97 \t20.92 \t[0.512] \t[0.53524492]\t[0.20472843]\t[0.05478]\t9.9921875  \t0.0989990234375\n",
      "98 \t18.43 \t[0.519] \t[0.53524492]\t[0.2834432] \t[0.03882]\t9.9609375  \t0.278564453125 \n",
      "99 \t18.16 \t[0.514] \t[0.53524492]\t[0.17773084]\t[0.04822]\t9.8984375  \t0.55419921875  \n",
      "\n",
      ">> End (1 hours and 0 minutes)\n",
      "\n"
     ]
    }
   ],
   "source": [
    "if verb >= 1:\n",
    "    print(\">> (Exec \" + str(NEXEC) + \") GP + \" + classifier + \" - Feature Selection and Construction\")\n",
    "    print(\">> NGEN = \" + str(NGEN) + \" | NPOP = \" + str(NPOP) + \" | MAX_DEPTH = \" + str(TAM_MAX) + \" | PARAM = \" + str(clf_param))\n",
    "    print(\">> Optimizing: \" + str(opt_vars))\n",
    "    print(\">> Weights:    \" + str(wts_vars))\n",
    "    # if verb == 1:\n",
    "    #    sys.stdout.write(\"[%s]\" % (\" \" * toolbar_width))\n",
    "    #    sys.stdout.flush()\n",
    "    #    sys.stdout.write(\"\\b\" * (toolbar_width+1))\n",
    "    \n",
    "if verb == 1:\n",
    "    printProgressBar(0, NGEN, prefix = '>> Progress:', suffix = 'Complete', length = 50)\n",
    "\n",
    "for g in range(NGEN):\n",
    "    geninit = time.time()\n",
    "    \n",
    "    if verb == 1:\n",
    "        printProgressBar(g + 1, NGEN, prefix = '>> Progress:', suffix = 'Complete', length = 50)\n",
    "\n",
    "    pop = toolbox.select(pop, NPOP)\n",
    "\n",
    "    if USE_MULTIPROCESSING > 0:\n",
    "        offspring = list(map(toolbox.clone, pop))\n",
    "        offspring = p.map(fmate, list(zip(offspring[::2], offspring[1::2])))\n",
    "        offspring = [xx for sub in offspring for xx in sub]\n",
    "        offspring = p.map(fmutate, offspring)\n",
    "        offspring = p.map(ff, offspring)\n",
    "    else:\n",
    "        offspring = algorithms.varAnd(pop, toolbox, CXPB, MUTPB)\n",
    "        fitnesses = list(map(toolbox.evaluate, offspring))\n",
    "\n",
    "        for ind, fit in zip(offspring, fitnesses):\n",
    "            ind.fitness.values = fit\n",
    "            if (math.isnan(fit[0])):\n",
    "                ind.fitness.values = 0,\n",
    "            else:\n",
    "                ind.fitness.values = fit\n",
    "\n",
    "    hof = tools.selBest(pop, 1)\n",
    "\n",
    "    pop[:] = offspring + hof\n",
    "    log.record(gen = g, time = round(time.time() - geninit, 2),**mstats.compile(pop))\n",
    "\n",
    "    if verb == 2:\n",
    "        print(log.stream)\n",
    "\n",
    "end = time.time()\n",
    "\n",
    "total_time = end - start\n",
    "\n",
    "if verb >= 1:\n",
    "    if total_time < 60:\n",
    "        print(\"\\n>> End (\" + str(round(total_time)) + \" seconds)\\n\")\n",
    "    elif total_time < 3600:\n",
    "        print(\"\\n>> End (\" + str(round(total_time/60)) + \" minutes)\\n\")\n",
    "    else:\n",
    "        print(\"\\n>> End (\" + str(math.floor(total_time/3600)) + \" hours and \" + str(round(abs(math.floor(total_time/3600)-total_time/3600)*60)) + \" minutes)\\n\")\n",
    "\n",
    "logfile = open(os.path.join(path, \"log/LOG_\" + filename + \"_\" + str(NEXEC) + \".csv\"), 'w')\n",
    "logfile.write(str(log))\n",
    "logfile.close()\n",
    "\n",
    "prf, acc, cfm, AUC = fitness.performance(hof[0], classifier, X_train, y_train, X_test, y_test, pset, clf_param, external)\n",
    "\n",
    "info_file_name = os.path.join(path,\"infoGP.csv\")\n",
    "infoGP = open(info_file_name, 'a')\n",
    "if os.stat(info_file_name).st_size == 0:\n",
    "    infoGP.write(\"balance,DEEP MAX,classifier,P1,P2,#Exec,PPV_S,PPV_NS,TPR_S,TPR_NS,F1_S,F1_NS,SUP_S,SUP_NS,TN,FP,FN,TP,Acc,AUC,Deep,Training Time\\n\")\n",
    "\n",
    "infoGP.write(str(balance) + ',' + str(TAM_MAX) + ',' + classifier + ',' + str(clf_param[0]) + ',' + str(clf_param[1]) + ',' +  str(NEXEC) + ',' + str(prf[0][0]) + ',' \n",
    "        + str(prf[0][1]) + ',' + str(prf[1][0]) + ',' + str(prf[1][1]) + ',' + str(prf[2][0]) + ',' \n",
    "        + str(prf[2][1]) + ',' + str(prf[3][0]) + ',' + str(prf[3][1]) + ',' \n",
    "        + str(cfm[0]) + ',' + str(cfm[1]) + ',' + str(cfm[2]) + ',' + str(cfm[3]) + ',' \n",
    "        + str(acc) + ',' + str(AUC) + ',' + str(hof[0].height) + ',' + str(total_time) + '\\n')\n",
    "\n",
    "infoGP.close()\n",
    "\n",
    "tree = gp.PrimitiveTree(hof[0])\n",
    "expFILE = open(path + \"best_expr/EXPR_\" + filename + \"_\" +  str(NEXEC) + \".txt\", 'w')\n",
    "expFILE.write(str(tree))\n",
    "expFILE.close()"
   ]
  },
  {
   "cell_type": "markdown",
   "metadata": {},
   "source": [
    "> ## Visualize the best feature set created"
   ]
  },
  {
   "cell_type": "code",
   "execution_count": 17,
   "metadata": {},
   "outputs": [
    {
     "name": "stdout",
     "output_type": "stream",
     "text": [
      "6 features\n",
      "Feature 0: ARG13\n",
      "Feature 1: ARG16\n",
      "Feature 2: ARG13 + ARG53 + log(ARG16 + ARG16/ARG13)\n",
      "Feature 3: ARG53 + log(ARG16 + 2*ARG53/ARG54)\n",
      "Feature 4: ARG12/ARG53\n",
      "Feature 5: ARG54\n"
     ]
    }
   ],
   "source": [
    "features = list(set(visualize.get_equations_simplified(hof[0])))\n",
    "print(str(len(features)) + ' features')\n",
    "for i in list(range(len(features))):\n",
    "    print('Feature ' + str(i) + ': ' + str(features[i]))"
   ]
  },
  {
   "cell_type": "markdown",
   "metadata": {},
   "source": [
    "> ## Detailed performance"
   ]
  },
  {
   "cell_type": "code",
   "execution_count": 18,
   "metadata": {},
   "outputs": [
    {
     "name": "stdout",
     "output_type": "stream",
     "text": [
      "Precision:  0.5138\n",
      "Recall   :  0.5586\n",
      "F1-Score :  0.5352\n",
      "Accuracy :  0.8919\n",
      "AUC      :  0.7462\n",
      "Confusion Matrix: \n",
      " \t0   \t1   \n",
      "0\t5973\t424\n",
      "1\t354\t448\n"
     ]
    }
   ],
   "source": [
    "prf, acc, cfm, AUC = fitness.performance(hof[0], classifier, X_train, y_train, X_test, y_test, pset, clf_param, external)\n",
    "print('Precision: ', round(prf[0][0], 4))\n",
    "print('Recall   : ', round(prf[1][0], 4))\n",
    "print('F1-Score : ', round(prf[2][0], 4))\n",
    "print('Accuracy : ', round(acc, 4))\n",
    "print('AUC      : ', round(AUC, 4))\n",
    "print('Confusion Matrix: ')\n",
    "print(' \\t0   \\t1   ')\n",
    "print('0\\t'+str(cfm[0])+'\\t'+str(cfm[1]))\n",
    "print('1\\t'+str(cfm[2])+'\\t'+str(cfm[3]))"
   ]
  },
  {
   "cell_type": "markdown",
   "metadata": {},
   "source": [
    "> ## Final GP tree\n",
    "If the plot appears wierd, please run this instruction twice"
   ]
  },
  {
   "cell_type": "code",
   "execution_count": 19,
   "metadata": {},
   "outputs": [
    {
     "data": {
      "image/png": "[encoded data removed]",
      "text/plain": [
       "<Figure size 1800x1152 with 1 Axes>"
      ]
     },
     "metadata": {},
     "output_type": "display_data"
    }
   ],
   "source": [
    "visualize.plot_tree(hof[0], path = path + \"best_expr/EXPR_\" + filename + \"_\" +  str(NEXEC) + \".pdf\")"
   ]
  },
  {
   "cell_type": "markdown",
   "metadata": {},
   "source": [
    "> ## Conclusion\n",
    "> Check the results folder:  \n",
    "> Runtime information at **results_GP_1/log**  \n",
    "> The best feature set and the tree plot at **results_GP_1/best_expr**  \n",
    "> The best feature set at **results_GP_1/infoGP.csv**"
   ]
  }
 ],
 "metadata": {
  "kernelspec": {
   "display_name": "Python 3",
   "language": "python",
   "name": "python3"
  },
  "language_info": {
   "codemirror_mode": {
    "name": "ipython",
    "version": 3
   },
   "file_extension": ".py",
   "mimetype": "text/x-python",
   "name": "python",
   "nbconvert_exporter": "python",
   "pygments_lexer": "ipython3",
   "version": "3.5.2"
  }
 },
 "nbformat": 4,
 "nbformat_minor": 2
}
