{
 "cells": [
  {
   "cell_type": "markdown",
   "metadata": {},
   "source": [
    "> ## Parallelism/Optimization\n",
    "> This code is optmized with core multiprocessing. On variable **USE_MULTIPROCESSING** set the maximum number of parallel operations that the program can run.  \n",
    "> If you don't use it, set `USE_MULTIPROCESSING = 0`"
   ]
  },
  {
   "cell_type": "code",
   "execution_count": 1,
   "metadata": {},
   "outputs": [
    {
     "name": "stderr",
     "output_type": "stream",
     "text": [
      "/usr/local/lib/python3.5/dist-packages/IPython/parallel.py:13: ShimWarning: The `IPython.parallel` package has been deprecated since IPython 4.0. You should import from ipyparallel instead.\n",
      "  \"You should import from ipyparallel instead.\", ShimWarning)\n",
      "/usr/local/lib/python3.5/dist-packages/ipyparallel/client/client.py:459: RuntimeWarning: \n",
      "            Controller appears to be listening on localhost, but not on this machine.\n",
      "            If this is true, you should specify Client(...,sshserver='you@icaro')\n",
      "            or instruct your controller to listen on an external IP.\n",
      "  RuntimeWarning)\n"
     ]
    },
    {
     "data": {
      "text/plain": [
       "<AsyncResult: use_cloudpickle>"
      ]
     },
     "execution_count": 1,
     "metadata": {},
     "output_type": "execute_result"
    }
   ],
   "source": [
    "import ipyparallel as ipp\n",
    "from IPython.parallel.util import interactive\n",
    "\n",
    "c = ipp.Client()\n",
    "dv = c[:]\n",
    "dv.use_cloudpickle()"
   ]
  },
  {
   "cell_type": "markdown",
   "metadata": {},
   "source": [
    "> ## Library imports"
   ]
  },
  {
   "cell_type": "code",
   "execution_count": 3,
   "metadata": {},
   "outputs": [
    {
     "name": "stdout",
     "output_type": "stream",
     "text": [
      "importing os on engine(s)\n",
      "importing shutil on engine(s)\n",
      "importing sys on engine(s)\n",
      "importing algorithms from deap on engine(s)\n",
      "importing base from deap on engine(s)\n",
      "importing creator from deap on engine(s)\n",
      "importing tools from deap on engine(s)\n",
      "importing gp from deap on engine(s)\n",
      "importing operator on engine(s)\n",
      "importing time on engine(s)\n",
      "importing numpy on engine(s)\n",
      "importing math on engine(s)\n",
      "importing random on engine(s)\n",
      "importing csv on engine(s)\n",
      "importing pandas on engine(s)\n",
      "importing accuracy_score from sklearn.metrics on engine(s)\n",
      "importing KNeighborsClassifier from sklearn.neighbors on engine(s)\n",
      "importing MLPClassifier from sklearn.neural_network on engine(s)\n",
      "importing SVC from sklearn.svm on engine(s)\n",
      "importing GaussianNB from sklearn.naive_bayes on engine(s)\n",
      "importing DecisionTreeClassifier from sklearn.tree on engine(s)\n",
      "importing KMeans from sklearn.cluster on engine(s)\n",
      "importing sklearn.metrics on engine(s)\n",
      "importing sklearn.metrics.classification on engine(s)\n",
      "importing sklearn.neighbors.classification on engine(s)\n",
      "importing precision_recall_fscore_support from sklearn.metrics on engine(s)\n",
      "importing confusion_matrix from sklearn.metrics on engine(s)\n",
      "importing roc_curve,auc,roc_auc_score from sklearn.metrics on engine(s)\n",
      "importing wasserstein_distance from scipy.stats on engine(s)\n",
      "importing train_test_split from sklearn.model_selection on engine(s)\n",
      "importing RandomUnderSampler from imblearn.under_sampling on engine(s)\n"
     ]
    }
   ],
   "source": [
    "import os, shutil\n",
    "import sys\n",
    "\n",
    "if not sys.warnoptions:\n",
    "    import warnings\n",
    "    warnings.simplefilter(\"ignore\")\n",
    "    \n",
    "if os.path.isdir(\"__pycache__\"):\n",
    "    shutil.rmtree(\"__pycache__\")\n",
    "\n",
    "# Our code\n",
    "from modules.balance_dataset import input_output\n",
    "from modules.evaluation import fitness\n",
    "from modules.utils import results_folder\n",
    "from modules import visualize\n",
    "from modules import operator_set\n",
    "\n",
    "import operator\n",
    "\n",
    "from deap import algorithms\n",
    "from deap import base\n",
    "from deap import creator\n",
    "from deap import tools\n",
    "from deap import gp\n",
    "from deap import tools\n",
    "\n",
    "from modules.statistics import runtime_metrics\n",
    "import time\n",
    "import numpy as np\n",
    "import math\n",
    "import random\n",
    "\n",
    "import pandas as pd\n",
    "\n",
    "with dv.sync_imports():\n",
    "    import os, shutil\n",
    "    import sys\n",
    "    from deap import algorithms\n",
    "    from deap import base\n",
    "    from deap import creator\n",
    "    from deap import tools\n",
    "    from deap import gp\n",
    "    import operator\n",
    "    import time\n",
    "    import numpy as np\n",
    "    import math\n",
    "    import random\n",
    "    import csv\n",
    "    import pandas as pd\n",
    "    from sklearn.metrics import accuracy_score\n",
    "    from sklearn.neighbors import KNeighborsClassifier\n",
    "    from sklearn.neural_network import MLPClassifier as MLP\n",
    "    from sklearn.svm import SVC\n",
    "    from sklearn.naive_bayes import GaussianNB\n",
    "    from sklearn.tree import DecisionTreeClassifier as DT\n",
    "    from sklearn.cluster import KMeans\n",
    "    import sklearn.metrics\n",
    "    import sklearn.metrics.classification\n",
    "    import sklearn.neighbors.classification\n",
    "    from sklearn.metrics import precision_recall_fscore_support\n",
    "    from sklearn.metrics import confusion_matrix\n",
    "    from sklearn.metrics import roc_curve, auc, roc_auc_score\n",
    "    from scipy.stats import wasserstein_distance\n",
    "    from sklearn.model_selection import train_test_split\n",
    "    from imblearn.under_sampling import RandomUnderSampler\n",
    "    import math"
   ]
  },
  {
   "cell_type": "markdown",
   "metadata": {},
   "source": [
    "> ## Files\n",
    "> Set the folder where files are on **DATASET_FOLDER**.  \n",
    "> Specify the data files you want to use on **FILE_LIST**.\n",
    ">  \n",
    "> ### File format\n",
    "> The files must be on csv format without header. One of the columns must be the label column\n",
    ">   \n",
    "> ### Example\n",
    "> The following files are the same data used on our GECCO 2019 paper. The csv files contain the preprocessed data from [DREAMS project](http://www.tcts.fpms.ac.be/~devuyst/Databases/DatabaseSpindles/). Each file represent an patient and each row contain the 75 initial extracted features from an 2 s signal segment.  \n",
    "> The two last columns are the data labels. Column 75 indicates with the label '1' the samples which both specialist agreed that are spindles. Column 76 indicates with the label '1' any sample marked as spindle"
   ]
  },
  {
   "cell_type": "code",
   "execution_count": 49,
   "metadata": {},
   "outputs": [],
   "source": [
    "# DATASET_FOLDER = 'modules/data/2000ms'\n",
    "# FILE_LIST = ['wav75_ex2_.csv','wav75_ex3_.csv','wav75_ex4_.csv','wav75_ex5_.csv','wav75_ex6_.csv','wav75_ex7_.csv','wav75_ex8_.csv']\n",
    "\n",
    "DATASET_FOLDER = 'modules/data/500ms'\n",
    "FILE_LIST = ['wav_ex2_spindles.csv','wav_ex3_spindles.csv','wav_ex4_spindles.csv','wav_ex5_spindles.csv','wav_ex6_spindles.csv','wav_ex7_spindles.csv','wav_ex8_spindles.csv']"
   ]
  },
  {
   "cell_type": "markdown",
   "metadata": {},
   "source": [
    "> ## Importing data\n",
    "> The `ratio` variable sets the proportion `N_spindles/N_not_spindles` samples of the train test"
   ]
  },
  {
   "cell_type": "code",
   "execution_count": 50,
   "metadata": {},
   "outputs": [
    {
     "name": "stdout",
     "output_type": "stream",
     "text": [
      "14.29% of train samples are spindles\n",
      "13.53% of test samples are spindles\n"
     ]
    }
   ],
   "source": [
    "data = input_output.read_dataset_list(DATASET_FOLDER, FILE_LIST)\n",
    "ratio = 1/6\n",
    "X_train, y_train, X_test, y_test = input_output.balance_dataset(data, data_columns = list(range(0,75)), label_column = 75, test_size = 0, ratio = ratio)\n",
    "\n",
    "\n",
    "# I am using patient 1 as test data\n",
    "df = pd.read_csv('modules/data/500ms/wav_ex1_spindles.csv', header = None)\n",
    "X_test = df[df.columns[0:75]].values\n",
    "y_test = df[df.columns[76]].values\n",
    "\n",
    "print(str(round(sum(y_train)*100/len(y_train),2)) + '% of train samples are spindles')\n",
    "print(str(round(sum(y_train)*100/len(y_test),2)) + '% of test samples are spindles')\n",
    "# One hot vector\n",
    "y_train = np.array([[x, int(not x)] for x in y_train])\n",
    "y_test  = np.array([[x, int(not x)] for x in y_test])\n",
    "n_att = 75"
   ]
  },
  {
   "cell_type": "markdown",
   "metadata": {},
   "source": [
    "> ## Evaluation metric\n",
    "> Our *fitness* function optimize one or more classification metrics. On **opt_vars**, select those metrics.\n",
    "> Options:\n",
    "> - **acc**: Accuracy\n",
    "> - **auc**: AUC Score\n",
    "> - **prec_S**: Precision (Spindles as class 1)\n",
    "> - **prec_NS**: Precision (Not spindles as class 1)\n",
    "> - **rec_NS**: Recall (Not Spindles as class 1)\n",
    "> - **rec_S**: Recall (Spindles as class 1)\n",
    "> - **f1_NS**: F1 Score (Not Spindles as class 1)\n",
    "> - **f1_S**: F1 Score (Spindles as class 1)\n",
    "> - **TN**: True Negatives Number\n",
    "> - **FP**: False Positives Number\n",
    "> - **TP**: True Positives Number\n",
    "> - **FN**: False Negatives Number\n",
    ">  \n",
    "> On **wts_vars**, create a tuple with each metric weight. Positive weights mean that the GP will try to maximize the metric. For the negative ones, GP will try to minimize.  \n",
    "> Example:  \n",
    "> `opt_vars = ['FP', 'TP']`    \n",
    "> `wts_vars = tuple([-1, 2])`"
   ]
  },
  {
   "cell_type": "code",
   "execution_count": 51,
   "metadata": {},
   "outputs": [
    {
     "name": "stdout",
     "output_type": "stream",
     "text": [
      "Maximizing (f1_S) with weight (1)\n"
     ]
    }
   ],
   "source": [
    "opt_vars = ['f1_S']\n",
    "wts_vars = tuple([1])\n",
    "\n",
    "@ipp.require(fitness)\n",
    "eval_func = fitness.eval_function(opt_vars)\n",
    "'''\n",
    "    Result: eval_func -> auc = lambda(y_true, y_pred)\n",
    "\n",
    "    Anothe example:\n",
    "        eval_func = fitness.eval_function(['auc', 'acc'])\n",
    "        Result: eval_func -> auc, acc = lambda(y_true, y_pred)\n",
    "'''\n",
    "'''\n",
    "    Multiparameter optimization\n",
    "    opt_vars -> evaluation metrics\n",
    "    wts_vars -> tuple with each metric weight\n",
    "    \n",
    "    Example: Optimizing False positives and True positives\n",
    "    opt_vars = [FP, TP]\n",
    "    wts_vars = tuple([-1, 2])\n",
    "    \n",
    "    It means that we want to reduce False positives and maximize True positives. And it is more \n",
    "    important to have True positives, because we have set its weight higher.\n",
    "'''\n",
    "for v, w in zip(opt_vars, list(wts_vars)):\n",
    "    if w > 0:\n",
    "        print('Maximizing (' + v + ') with weight (' + str(w) + ')')\n",
    "    else:\n",
    "        print('Minimizing (' + v + ') with weight (' + str(-1*w) + ')')\n"
   ]
  },
  {
   "cell_type": "markdown",
   "metadata": {},
   "source": [
    "> ## Target Classifier   \n",
    "> Our aproach create features that improves a classifier performance. In this code, we set 5 default classifiers (set on variable):\n",
    "> - nb: Naive Bayes  \n",
    "> - dt: Decision Tree  \n",
    "> - mlp: Multilayer Perceptron  \n",
    "> - knn: K Nearest Neighbors  \n",
    "> - svm: Support Vector Machine  \n",
    "> - kmeans: K-means Clustering (Using each cluster as a class of the problem)  \n",
    ">  \n",
    "> If you want to use them, it is necessary to set their parameters:\n",
    "> - nb: \\[None, None\\]\n",
    "> - dt: \\[None, None\\]\n",
    "> - mlp: \\[first hidden layer size,activation function\\]\n",
    "> - knn: \\[K, None\\]\n",
    "> - svm: \\[None,kernel\\]\n",
    "> - kmeans: \\[K, None\\]\n",
    ">  \n",
    "> Example:  \n",
    "> `classifier = 'svm'`   \n",
    "> `clf_param = [None, 'rbf']`  \n",
    "> `external = False`\n",
    ">  \n",
    "> ### Using a different classifier   \n",
    "> If you want to use a different classifier, it needs the following methods (like scikit-learn):\n",
    "> - fit(X,y): Trains the classifier\n",
    "> - predict(X): Returns a predict label array given the data X\n",
    "> - predict_proba(X): Return the predictiom probability for each sample in X\n",
    ">   \n",
    "> Example:  \n",
    "> `from sklearn.ensemble import RandomForestClassifier`  \n",
    "> `classifier = 'rf'`  \n",
    "> `external = RandomForestClassifier(n_estimators=100, max_depth=2, random_state=0)`"
   ]
  },
  {
   "cell_type": "code",
   "execution_count": 52,
   "metadata": {},
   "outputs": [
    {
     "name": "stdout",
     "output_type": "stream",
     "text": [
      "Using nb classifier\n"
     ]
    }
   ],
   "source": [
    "classifier = 'nb'\n",
    "external = False\n",
    "clf_param = [None,None] \n",
    "'''\n",
    "    options:\n",
    "        nb: Naive Bayes; params: None\n",
    "        dt: Decision Tree; params: None\n",
    "        mlp: Multilayer Perceptron; params: [first hidden layer size,activation function]\n",
    "        knn: K Nearest Neighbors; params: [K,-1]\n",
    "        svm: Support Vector Machine; params: [-1,kernel]\n",
    "        kmeans: K-means Clustering (Using each cluster as a class of the problem); params: [number of clusters, -1]\n",
    "        external: Default = False. You can use any classifier, but the following methods (like scikit-learn):\n",
    "            fit(X, y)\n",
    "            predict(X)\n",
    "            predict_proba(X)\n",
    "\n",
    "    Example 1:\n",
    "    from sklearn.ensemble import RandomForestClassifier\n",
    "    classifier = 'rf'\n",
    "    external = RandomForestClassifier(n_estimators=100, max_depth=2, random_state=0)\n",
    "    \n",
    "    Example 2:\n",
    "    classifier = 'nb'\n",
    "    external = False\n",
    "    \n",
    "    Example 3:\n",
    "    classifier = 'svm'\n",
    "    clf_param = [None, 'rbf']\n",
    "    external = False\n",
    "'''\n",
    "print('Using ' + classifier + ' classifier')"
   ]
  },
  {
   "cell_type": "markdown",
   "metadata": {},
   "source": [
    "> ## GP operator set\n",
    "> As described on our paper, we have set protected operators for division, log and square root to avoid math domain problems.  \n",
    "> Check it on **modules/operator_set**"
   ]
  },
  {
   "cell_type": "code",
   "execution_count": 53,
   "metadata": {},
   "outputs": [],
   "source": [
    "pset = gp.PrimitiveSet(\"MAIN\", n_att)\n",
    "pset.addPrimitive(operator.add, 2)\n",
    "pset.addPrimitive(operator.sub, 2)\n",
    "pset.addPrimitive(operator.mul, 2)\n",
    "pset.addPrimitive(operator_set.plog, 1)\n",
    "pset.addPrimitive(operator_set.psqrt, 1)\n",
    "pset.addPrimitive(operator_set.pdiv, 2)\n",
    "pset.addPrimitive(operator_set.F, 1)\n",
    "# pset.addPrimitive(math.sin, 1)\n",
    "# pset.addPrimitive(math.cos, 1)\n",
    "# pset.addPrimitive(operator.neg, 1)"
   ]
  },
  {
   "cell_type": "markdown",
   "metadata": {},
   "source": [
    "> ## GP parameters  \n",
    "> Set here:  \n",
    "> - Population size  \n",
    "> - Number of generations  \n",
    "> - Crossover type and probability  \n",
    "> - Mutation type and probability  \n",
    "> - Individual initialization and selection\n",
    ">  \n",
    ">  Se more parameters types on [DEAP documentation](https://deap.readthedocs.io/en/0.7-0/api/tools.html)"
   ]
  },
  {
   "cell_type": "code",
   "execution_count": 54,
   "metadata": {},
   "outputs": [],
   "source": [
    "n_jobs = 4"
   ]
  },
  {
   "cell_type": "code",
   "execution_count": 55,
   "metadata": {},
   "outputs": [],
   "source": [
    "# Population size\n",
    "NPOP = 25\n",
    "\n",
    "# Number of generations\n",
    "NGEN = 100\n",
    "\n",
    "# Crossover probability\n",
    "CXPB = .85\n",
    "\n",
    "# Mutation probability\n",
    "MUTPB = .15\n",
    "\n",
    "creator.create(\"FitnessMulti\", base.Fitness, weights = wts_vars)\n",
    "creator.create(\"Individual\", gp.PrimitiveTree, fitness=creator.FitnessMulti)\n",
    "\n",
    "toolbox = base.Toolbox()\n",
    "# Individual and population\n",
    "toolbox.register(\"expr\", gp.genHalfAndHalf, pset=pset, min_=1, max_=3)\n",
    "toolbox.register(\"individual\", tools.initIterate, creator.Individual, toolbox.expr)\n",
    "toolbox.register(\"population\", tools.initRepeat, list, toolbox.individual)\n",
    "toolbox.register(\"compile\", gp.compile, pset=pset)\n",
    "\n",
    "# Evaluation method\n",
    "toolbox.register(\"evaluate\", fitness.eval_tree, clf = classifier, X_train = X_train, y_train = y_train, X_test = X_test, y_true = y_test, pset = pset, opt_vars = opt_vars, eval_func = eval_func, param = clf_param, external = external, n_jobs = n_jobs)\n",
    "\n",
    "# Initialization\n",
    "# toolbox.register(\"expr_init\", gp.genFull, min_=4, max_=7)\n",
    "# toolbox.register(\"expr_init\", gp.genGrow, min_=4, max_=7)\n",
    "toolbox.register(\"expr_init\", gp.genHalfAndHalf, min_=4, max_=7)\n",
    "\n",
    "# Selection\n",
    "toolbox.register(\"select\", tools.selTournament, tournsize=3)\n",
    "# toolbox.register(\"select\", tools.selRoulette)\n",
    "# toolbox.register(\"select\", tools.selRandom)\n",
    "\n",
    "# Crossover\n",
    "toolbox.register(\"mate\", gp.cxOnePoint)\n",
    "# toolbox.register(\"mate\", gp.cxTwoPoint)\n",
    "# toolbox.register(\"mate\", gp.cxcxOnePointLeafBiased, termpb =.1)\n",
    "\n",
    "# Mutation\n",
    "toolbox.register(\"mutate\", gp.mutUniform, expr=toolbox.expr_init, pset=pset)\n",
    "# toolbox.register(\"mutate\", gp.mutNodeReplacement, pset=pset)\n",
    "# toolbox.register(\"mutate\", gp.mutInsert, pset=pset)\n",
    "# toolbox.register(\"mutate\", gp.mutShrink)toolbox.register(\"mutate\", gp.mutEphemeral, mode = 'all')"
   ]
  },
  {
   "cell_type": "markdown",
   "metadata": {},
   "source": [
    "> ## Bloat Control\n",
    "> We have used an simple bloat control limiting the maximum individual tree heigth.  \n",
    "> Set it on **TAM_MAX**. If you have low computational resources, we recommend **TAM_MAX** < 20 \n"
   ]
  },
  {
   "cell_type": "code",
   "execution_count": 56,
   "metadata": {},
   "outputs": [],
   "source": [
    "# Bloat Control\n",
    "TAM_MAX = 10\n",
    "toolbox.decorate(\"mate\", gp.staticLimit(key=operator.attrgetter(\"height\"), max_value = TAM_MAX))\n",
    "toolbox.decorate(\"mutate\", gp.staticLimit(key=operator.attrgetter(\"height\"), max_value = TAM_MAX))"
   ]
  },
  {
   "cell_type": "markdown",
   "metadata": {},
   "source": [
    "> ## Create population 0"
   ]
  },
  {
   "cell_type": "code",
   "execution_count": 62,
   "metadata": {
    "scrolled": true
   },
   "outputs": [],
   "source": [
    "start = time.time()\n",
    "pop = toolbox.population(NPOP)\n",
    "\n",
    "def ff(ind):\n",
    "    fit = fitness.eval_tree(ind, clf = classifier, X_train = X_train, y_train = y_train, X_test = X_test, y_true = y_test, pset = pset, opt_vars = opt_vars, eval_func = eval_func, param = clf_param, external = external, n_jobs = n_jobs)\n",
    "    if (math.isnan(fit[0])):\n",
    "        ind.fitness.values = 0,\n",
    "    else:\n",
    "        ind.fitness.values = fit\n",
    "    return ind\n",
    "\n",
    "def fmate(children):\n",
    "    if random.random() < CXPB:\n",
    "        children = toolbox.mate(children[0], children[1])\n",
    "        del children[0].fitness.values\n",
    "        del children[1].fitness.values\n",
    "    return children[0], children[1]\n",
    "\n",
    "def fmutate(mutant):\n",
    "    if random.random() < MUTPB:\n",
    "        mutant = toolbox.mutate(mutant)[0]\n",
    "        del mutant.fitness.values\n",
    "    return mutant\n"
   ]
  },
  {
   "cell_type": "code",
   "execution_count": 63,
   "metadata": {},
   "outputs": [
    {
     "data": {
      "text/plain": [
       "<contextlib._GeneratorContextManager at 0x7fd0961fe4e0>"
      ]
     },
     "execution_count": 63,
     "metadata": {},
     "output_type": "execute_result"
    }
   ],
   "source": [
    "dv.sync_imports(interactive(toolbox))"
   ]
  },
  {
   "cell_type": "code",
   "execution_count": 64,
   "metadata": {},
   "outputs": [],
   "source": [
    "func_for_eval = interactive(ff)"
   ]
  },
  {
   "cell_type": "code",
   "execution_count": 60,
   "metadata": {},
   "outputs": [
    {
     "ename": "CompositeError",
     "evalue": "one or more exceptions from call to method: ff\n[0:apply]: ImportError: No module named 'modules'\n[1:apply]: ImportError: No module named 'modules'\n[2:apply]: ImportError: No module named 'modules'\n[3:apply]: ImportError: No module named 'modules'",
     "output_type": "error",
     "traceback": [
      "[0:apply]: ",
      "\u001b[0;31m---------------------------------------------------------------------------\u001b[0m\u001b[0;31mImportError\u001b[0m                               Traceback (most recent call last)\u001b[0;32m/usr/local/lib/python3.5/dist-packages/ipyparallel/serialize/serialize.py\u001b[0m in \u001b[0;36munpack_apply_message\u001b[0;34m(bufs, g, copy)\u001b[0m",
      "\u001b[1;32m    196\u001b[0m     \u001b[0mbufs\u001b[0m \u001b[0;34m=\u001b[0m \u001b[0mlist\u001b[0m\u001b[0;34m(\u001b[0m\u001b[0mbufs\u001b[0m\u001b[0;34m)\u001b[0m \u001b[0;31m# allow us to pop\u001b[0m\u001b[0;34m\u001b[0m\u001b[0m",
      "\u001b[1;32m    197\u001b[0m     \u001b[0;32massert\u001b[0m \u001b[0mlen\u001b[0m\u001b[0;34m(\u001b[0m\u001b[0mbufs\u001b[0m\u001b[0;34m)\u001b[0m \u001b[0;34m>=\u001b[0m \u001b[0;36m2\u001b[0m\u001b[0;34m,\u001b[0m \u001b[0;34m\"not enough buffers!\"\u001b[0m\u001b[0;34m\u001b[0m\u001b[0m",
      "\u001b[0;32m--> 198\u001b[0;31m     \u001b[0mf\u001b[0m\u001b[0;34m,\u001b[0m \u001b[0mbufs\u001b[0m \u001b[0;34m=\u001b[0m \u001b[0mdeserialize_object\u001b[0m\u001b[0;34m(\u001b[0m\u001b[0mbufs\u001b[0m\u001b[0;34m,\u001b[0m \u001b[0mg\u001b[0m\u001b[0;34m)\u001b[0m\u001b[0;34m\u001b[0m\u001b[0m",
      "\u001b[0m\u001b[1;32m    199\u001b[0m     \u001b[0mpinfo\u001b[0m \u001b[0;34m=\u001b[0m \u001b[0mbuffer_to_bytes_py2\u001b[0m\u001b[0;34m(\u001b[0m\u001b[0mbufs\u001b[0m\u001b[0;34m.\u001b[0m\u001b[0mpop\u001b[0m\u001b[0;34m(\u001b[0m\u001b[0;36m0\u001b[0m\u001b[0;34m)\u001b[0m\u001b[0;34m)\u001b[0m\u001b[0;34m\u001b[0m\u001b[0m",
      "\u001b[1;32m    200\u001b[0m     \u001b[0minfo\u001b[0m \u001b[0;34m=\u001b[0m \u001b[0mpickle\u001b[0m\u001b[0;34m.\u001b[0m\u001b[0mloads\u001b[0m\u001b[0;34m(\u001b[0m\u001b[0mpinfo\u001b[0m\u001b[0;34m)\u001b[0m\u001b[0;34m\u001b[0m\u001b[0m",
      "\u001b[0;32m/usr/local/lib/python3.5/dist-packages/ipyparallel/serialize/serialize.py\u001b[0m in \u001b[0;36mdeserialize_object\u001b[0;34m(buffers, g)\u001b[0m",
      "\u001b[1;32m    143\u001b[0m     \u001b[0mbufs\u001b[0m \u001b[0;34m=\u001b[0m \u001b[0mlist\u001b[0m\u001b[0;34m(\u001b[0m\u001b[0mbuffers\u001b[0m\u001b[0;34m)\u001b[0m\u001b[0;34m\u001b[0m\u001b[0m",
      "\u001b[1;32m    144\u001b[0m     \u001b[0mpobj\u001b[0m \u001b[0;34m=\u001b[0m \u001b[0mbuffer_to_bytes_py2\u001b[0m\u001b[0;34m(\u001b[0m\u001b[0mbufs\u001b[0m\u001b[0;34m.\u001b[0m\u001b[0mpop\u001b[0m\u001b[0;34m(\u001b[0m\u001b[0;36m0\u001b[0m\u001b[0;34m)\u001b[0m\u001b[0;34m)\u001b[0m\u001b[0;34m\u001b[0m\u001b[0m",
      "\u001b[0;32m--> 145\u001b[0;31m     \u001b[0mcanned\u001b[0m \u001b[0;34m=\u001b[0m \u001b[0mpickle\u001b[0m\u001b[0;34m.\u001b[0m\u001b[0mloads\u001b[0m\u001b[0;34m(\u001b[0m\u001b[0mpobj\u001b[0m\u001b[0;34m)\u001b[0m\u001b[0;34m\u001b[0m\u001b[0m",
      "\u001b[0m\u001b[1;32m    146\u001b[0m     \u001b[0;32mif\u001b[0m \u001b[0mistype\u001b[0m\u001b[0;34m(\u001b[0m\u001b[0mcanned\u001b[0m\u001b[0;34m,\u001b[0m \u001b[0msequence_types\u001b[0m\u001b[0;34m)\u001b[0m \u001b[0;32mand\u001b[0m \u001b[0mlen\u001b[0m\u001b[0;34m(\u001b[0m\u001b[0mcanned\u001b[0m\u001b[0;34m)\u001b[0m \u001b[0;34m<\u001b[0m \u001b[0mMAX_ITEMS\u001b[0m\u001b[0;34m:\u001b[0m\u001b[0;34m\u001b[0m\u001b[0m",
      "\u001b[1;32m    147\u001b[0m         \u001b[0;32mfor\u001b[0m \u001b[0mc\u001b[0m \u001b[0;32min\u001b[0m \u001b[0mcanned\u001b[0m\u001b[0;34m:\u001b[0m\u001b[0;34m\u001b[0m\u001b[0m",
      "\u001b[0;31mImportError\u001b[0m: No module named 'modules'",
      "",
      "[1:apply]: ",
      "\u001b[0;31m---------------------------------------------------------------------------\u001b[0m\u001b[0;31mImportError\u001b[0m                               Traceback (most recent call last)\u001b[0;32m/usr/local/lib/python3.5/dist-packages/ipyparallel/serialize/serialize.py\u001b[0m in \u001b[0;36munpack_apply_message\u001b[0;34m(bufs, g, copy)\u001b[0m",
      "\u001b[1;32m    196\u001b[0m     \u001b[0mbufs\u001b[0m \u001b[0;34m=\u001b[0m \u001b[0mlist\u001b[0m\u001b[0;34m(\u001b[0m\u001b[0mbufs\u001b[0m\u001b[0;34m)\u001b[0m \u001b[0;31m# allow us to pop\u001b[0m\u001b[0;34m\u001b[0m\u001b[0m",
      "\u001b[1;32m    197\u001b[0m     \u001b[0;32massert\u001b[0m \u001b[0mlen\u001b[0m\u001b[0;34m(\u001b[0m\u001b[0mbufs\u001b[0m\u001b[0;34m)\u001b[0m \u001b[0;34m>=\u001b[0m \u001b[0;36m2\u001b[0m\u001b[0;34m,\u001b[0m \u001b[0;34m\"not enough buffers!\"\u001b[0m\u001b[0;34m\u001b[0m\u001b[0m",
      "\u001b[0;32m--> 198\u001b[0;31m     \u001b[0mf\u001b[0m\u001b[0;34m,\u001b[0m \u001b[0mbufs\u001b[0m \u001b[0;34m=\u001b[0m \u001b[0mdeserialize_object\u001b[0m\u001b[0;34m(\u001b[0m\u001b[0mbufs\u001b[0m\u001b[0;34m,\u001b[0m \u001b[0mg\u001b[0m\u001b[0;34m)\u001b[0m\u001b[0;34m\u001b[0m\u001b[0m",
      "\u001b[0m\u001b[1;32m    199\u001b[0m     \u001b[0mpinfo\u001b[0m \u001b[0;34m=\u001b[0m \u001b[0mbuffer_to_bytes_py2\u001b[0m\u001b[0;34m(\u001b[0m\u001b[0mbufs\u001b[0m\u001b[0;34m.\u001b[0m\u001b[0mpop\u001b[0m\u001b[0;34m(\u001b[0m\u001b[0;36m0\u001b[0m\u001b[0;34m)\u001b[0m\u001b[0;34m)\u001b[0m\u001b[0;34m\u001b[0m\u001b[0m",
      "\u001b[1;32m    200\u001b[0m     \u001b[0minfo\u001b[0m \u001b[0;34m=\u001b[0m \u001b[0mpickle\u001b[0m\u001b[0;34m.\u001b[0m\u001b[0mloads\u001b[0m\u001b[0;34m(\u001b[0m\u001b[0mpinfo\u001b[0m\u001b[0;34m)\u001b[0m\u001b[0;34m\u001b[0m\u001b[0m",
      "\u001b[0;32m/usr/local/lib/python3.5/dist-packages/ipyparallel/serialize/serialize.py\u001b[0m in \u001b[0;36mdeserialize_object\u001b[0;34m(buffers, g)\u001b[0m",
      "\u001b[1;32m    143\u001b[0m     \u001b[0mbufs\u001b[0m \u001b[0;34m=\u001b[0m \u001b[0mlist\u001b[0m\u001b[0;34m(\u001b[0m\u001b[0mbuffers\u001b[0m\u001b[0;34m)\u001b[0m\u001b[0;34m\u001b[0m\u001b[0m",
      "\u001b[1;32m    144\u001b[0m     \u001b[0mpobj\u001b[0m \u001b[0;34m=\u001b[0m \u001b[0mbuffer_to_bytes_py2\u001b[0m\u001b[0;34m(\u001b[0m\u001b[0mbufs\u001b[0m\u001b[0;34m.\u001b[0m\u001b[0mpop\u001b[0m\u001b[0;34m(\u001b[0m\u001b[0;36m0\u001b[0m\u001b[0;34m)\u001b[0m\u001b[0;34m)\u001b[0m\u001b[0;34m\u001b[0m\u001b[0m",
      "\u001b[0;32m--> 145\u001b[0;31m     \u001b[0mcanned\u001b[0m \u001b[0;34m=\u001b[0m \u001b[0mpickle\u001b[0m\u001b[0;34m.\u001b[0m\u001b[0mloads\u001b[0m\u001b[0;34m(\u001b[0m\u001b[0mpobj\u001b[0m\u001b[0;34m)\u001b[0m\u001b[0;34m\u001b[0m\u001b[0m",
      "\u001b[0m\u001b[1;32m    146\u001b[0m     \u001b[0;32mif\u001b[0m \u001b[0mistype\u001b[0m\u001b[0;34m(\u001b[0m\u001b[0mcanned\u001b[0m\u001b[0;34m,\u001b[0m \u001b[0msequence_types\u001b[0m\u001b[0;34m)\u001b[0m \u001b[0;32mand\u001b[0m \u001b[0mlen\u001b[0m\u001b[0;34m(\u001b[0m\u001b[0mcanned\u001b[0m\u001b[0;34m)\u001b[0m \u001b[0;34m<\u001b[0m \u001b[0mMAX_ITEMS\u001b[0m\u001b[0;34m:\u001b[0m\u001b[0;34m\u001b[0m\u001b[0m",
      "\u001b[1;32m    147\u001b[0m         \u001b[0;32mfor\u001b[0m \u001b[0mc\u001b[0m \u001b[0;32min\u001b[0m \u001b[0mcanned\u001b[0m\u001b[0;34m:\u001b[0m\u001b[0;34m\u001b[0m\u001b[0m",
      "\u001b[0;31mImportError\u001b[0m: No module named 'modules'",
      "",
      "[2:apply]: ",
      "\u001b[0;31m---------------------------------------------------------------------------\u001b[0m\u001b[0;31mImportError\u001b[0m                               Traceback (most recent call last)\u001b[0;32m/usr/local/lib/python3.5/dist-packages/ipyparallel/serialize/serialize.py\u001b[0m in \u001b[0;36munpack_apply_message\u001b[0;34m(bufs, g, copy)\u001b[0m",
      "\u001b[1;32m    196\u001b[0m     \u001b[0mbufs\u001b[0m \u001b[0;34m=\u001b[0m \u001b[0mlist\u001b[0m\u001b[0;34m(\u001b[0m\u001b[0mbufs\u001b[0m\u001b[0;34m)\u001b[0m \u001b[0;31m# allow us to pop\u001b[0m\u001b[0;34m\u001b[0m\u001b[0m",
      "\u001b[1;32m    197\u001b[0m     \u001b[0;32massert\u001b[0m \u001b[0mlen\u001b[0m\u001b[0;34m(\u001b[0m\u001b[0mbufs\u001b[0m\u001b[0;34m)\u001b[0m \u001b[0;34m>=\u001b[0m \u001b[0;36m2\u001b[0m\u001b[0;34m,\u001b[0m \u001b[0;34m\"not enough buffers!\"\u001b[0m\u001b[0;34m\u001b[0m\u001b[0m",
      "\u001b[0;32m--> 198\u001b[0;31m     \u001b[0mf\u001b[0m\u001b[0;34m,\u001b[0m \u001b[0mbufs\u001b[0m \u001b[0;34m=\u001b[0m \u001b[0mdeserialize_object\u001b[0m\u001b[0;34m(\u001b[0m\u001b[0mbufs\u001b[0m\u001b[0;34m,\u001b[0m \u001b[0mg\u001b[0m\u001b[0;34m)\u001b[0m\u001b[0;34m\u001b[0m\u001b[0m",
      "\u001b[0m\u001b[1;32m    199\u001b[0m     \u001b[0mpinfo\u001b[0m \u001b[0;34m=\u001b[0m \u001b[0mbuffer_to_bytes_py2\u001b[0m\u001b[0;34m(\u001b[0m\u001b[0mbufs\u001b[0m\u001b[0;34m.\u001b[0m\u001b[0mpop\u001b[0m\u001b[0;34m(\u001b[0m\u001b[0;36m0\u001b[0m\u001b[0;34m)\u001b[0m\u001b[0;34m)\u001b[0m\u001b[0;34m\u001b[0m\u001b[0m",
      "\u001b[1;32m    200\u001b[0m     \u001b[0minfo\u001b[0m \u001b[0;34m=\u001b[0m \u001b[0mpickle\u001b[0m\u001b[0;34m.\u001b[0m\u001b[0mloads\u001b[0m\u001b[0;34m(\u001b[0m\u001b[0mpinfo\u001b[0m\u001b[0;34m)\u001b[0m\u001b[0;34m\u001b[0m\u001b[0m",
      "\u001b[0;32m/usr/local/lib/python3.5/dist-packages/ipyparallel/serialize/serialize.py\u001b[0m in \u001b[0;36mdeserialize_object\u001b[0;34m(buffers, g)\u001b[0m",
      "\u001b[1;32m    143\u001b[0m     \u001b[0mbufs\u001b[0m \u001b[0;34m=\u001b[0m \u001b[0mlist\u001b[0m\u001b[0;34m(\u001b[0m\u001b[0mbuffers\u001b[0m\u001b[0;34m)\u001b[0m\u001b[0;34m\u001b[0m\u001b[0m",
      "\u001b[1;32m    144\u001b[0m     \u001b[0mpobj\u001b[0m \u001b[0;34m=\u001b[0m \u001b[0mbuffer_to_bytes_py2\u001b[0m\u001b[0;34m(\u001b[0m\u001b[0mbufs\u001b[0m\u001b[0;34m.\u001b[0m\u001b[0mpop\u001b[0m\u001b[0;34m(\u001b[0m\u001b[0;36m0\u001b[0m\u001b[0;34m)\u001b[0m\u001b[0;34m)\u001b[0m\u001b[0;34m\u001b[0m\u001b[0m",
      "\u001b[0;32m--> 145\u001b[0;31m     \u001b[0mcanned\u001b[0m \u001b[0;34m=\u001b[0m \u001b[0mpickle\u001b[0m\u001b[0;34m.\u001b[0m\u001b[0mloads\u001b[0m\u001b[0;34m(\u001b[0m\u001b[0mpobj\u001b[0m\u001b[0;34m)\u001b[0m\u001b[0;34m\u001b[0m\u001b[0m",
      "\u001b[0m\u001b[1;32m    146\u001b[0m     \u001b[0;32mif\u001b[0m \u001b[0mistype\u001b[0m\u001b[0;34m(\u001b[0m\u001b[0mcanned\u001b[0m\u001b[0;34m,\u001b[0m \u001b[0msequence_types\u001b[0m\u001b[0;34m)\u001b[0m \u001b[0;32mand\u001b[0m \u001b[0mlen\u001b[0m\u001b[0;34m(\u001b[0m\u001b[0mcanned\u001b[0m\u001b[0;34m)\u001b[0m \u001b[0;34m<\u001b[0m \u001b[0mMAX_ITEMS\u001b[0m\u001b[0;34m:\u001b[0m\u001b[0;34m\u001b[0m\u001b[0m",
      "\u001b[1;32m    147\u001b[0m         \u001b[0;32mfor\u001b[0m \u001b[0mc\u001b[0m \u001b[0;32min\u001b[0m \u001b[0mcanned\u001b[0m\u001b[0;34m:\u001b[0m\u001b[0;34m\u001b[0m\u001b[0m",
      "\u001b[0;31mImportError\u001b[0m: No module named 'modules'",
      "",
      "[3:apply]: ",
      "\u001b[0;31m---------------------------------------------------------------------------\u001b[0m\u001b[0;31mImportError\u001b[0m                               Traceback (most recent call last)\u001b[0;32m/usr/local/lib/python3.5/dist-packages/ipyparallel/serialize/serialize.py\u001b[0m in \u001b[0;36munpack_apply_message\u001b[0;34m(bufs, g, copy)\u001b[0m",
      "\u001b[1;32m    196\u001b[0m     \u001b[0mbufs\u001b[0m \u001b[0;34m=\u001b[0m \u001b[0mlist\u001b[0m\u001b[0;34m(\u001b[0m\u001b[0mbufs\u001b[0m\u001b[0;34m)\u001b[0m \u001b[0;31m# allow us to pop\u001b[0m\u001b[0;34m\u001b[0m\u001b[0m",
      "\u001b[1;32m    197\u001b[0m     \u001b[0;32massert\u001b[0m \u001b[0mlen\u001b[0m\u001b[0;34m(\u001b[0m\u001b[0mbufs\u001b[0m\u001b[0;34m)\u001b[0m \u001b[0;34m>=\u001b[0m \u001b[0;36m2\u001b[0m\u001b[0;34m,\u001b[0m \u001b[0;34m\"not enough buffers!\"\u001b[0m\u001b[0;34m\u001b[0m\u001b[0m",
      "\u001b[0;32m--> 198\u001b[0;31m     \u001b[0mf\u001b[0m\u001b[0;34m,\u001b[0m \u001b[0mbufs\u001b[0m \u001b[0;34m=\u001b[0m \u001b[0mdeserialize_object\u001b[0m\u001b[0;34m(\u001b[0m\u001b[0mbufs\u001b[0m\u001b[0;34m,\u001b[0m \u001b[0mg\u001b[0m\u001b[0;34m)\u001b[0m\u001b[0;34m\u001b[0m\u001b[0m",
      "\u001b[0m\u001b[1;32m    199\u001b[0m     \u001b[0mpinfo\u001b[0m \u001b[0;34m=\u001b[0m \u001b[0mbuffer_to_bytes_py2\u001b[0m\u001b[0;34m(\u001b[0m\u001b[0mbufs\u001b[0m\u001b[0;34m.\u001b[0m\u001b[0mpop\u001b[0m\u001b[0;34m(\u001b[0m\u001b[0;36m0\u001b[0m\u001b[0;34m)\u001b[0m\u001b[0;34m)\u001b[0m\u001b[0;34m\u001b[0m\u001b[0m",
      "\u001b[1;32m    200\u001b[0m     \u001b[0minfo\u001b[0m \u001b[0;34m=\u001b[0m \u001b[0mpickle\u001b[0m\u001b[0;34m.\u001b[0m\u001b[0mloads\u001b[0m\u001b[0;34m(\u001b[0m\u001b[0mpinfo\u001b[0m\u001b[0;34m)\u001b[0m\u001b[0;34m\u001b[0m\u001b[0m",
      "\u001b[0;32m/usr/local/lib/python3.5/dist-packages/ipyparallel/serialize/serialize.py\u001b[0m in \u001b[0;36mdeserialize_object\u001b[0;34m(buffers, g)\u001b[0m",
      "\u001b[1;32m    143\u001b[0m     \u001b[0mbufs\u001b[0m \u001b[0;34m=\u001b[0m \u001b[0mlist\u001b[0m\u001b[0;34m(\u001b[0m\u001b[0mbuffers\u001b[0m\u001b[0;34m)\u001b[0m\u001b[0;34m\u001b[0m\u001b[0m",
      "\u001b[1;32m    144\u001b[0m     \u001b[0mpobj\u001b[0m \u001b[0;34m=\u001b[0m \u001b[0mbuffer_to_bytes_py2\u001b[0m\u001b[0;34m(\u001b[0m\u001b[0mbufs\u001b[0m\u001b[0;34m.\u001b[0m\u001b[0mpop\u001b[0m\u001b[0;34m(\u001b[0m\u001b[0;36m0\u001b[0m\u001b[0;34m)\u001b[0m\u001b[0;34m)\u001b[0m\u001b[0;34m\u001b[0m\u001b[0m",
      "\u001b[0;32m--> 145\u001b[0;31m     \u001b[0mcanned\u001b[0m \u001b[0;34m=\u001b[0m \u001b[0mpickle\u001b[0m\u001b[0;34m.\u001b[0m\u001b[0mloads\u001b[0m\u001b[0;34m(\u001b[0m\u001b[0mpobj\u001b[0m\u001b[0;34m)\u001b[0m\u001b[0;34m\u001b[0m\u001b[0m",
      "\u001b[0m\u001b[1;32m    146\u001b[0m     \u001b[0;32mif\u001b[0m \u001b[0mistype\u001b[0m\u001b[0;34m(\u001b[0m\u001b[0mcanned\u001b[0m\u001b[0;34m,\u001b[0m \u001b[0msequence_types\u001b[0m\u001b[0;34m)\u001b[0m \u001b[0;32mand\u001b[0m \u001b[0mlen\u001b[0m\u001b[0;34m(\u001b[0m\u001b[0mcanned\u001b[0m\u001b[0;34m)\u001b[0m \u001b[0;34m<\u001b[0m \u001b[0mMAX_ITEMS\u001b[0m\u001b[0;34m:\u001b[0m\u001b[0;34m\u001b[0m\u001b[0m",
      "\u001b[1;32m    147\u001b[0m         \u001b[0;32mfor\u001b[0m \u001b[0mc\u001b[0m \u001b[0;32min\u001b[0m \u001b[0mcanned\u001b[0m\u001b[0;34m:\u001b[0m\u001b[0;34m\u001b[0m\u001b[0m",
      "\u001b[0;31mImportError\u001b[0m: No module named 'modules'",
      ""
     ]
    }
   ],
   "source": [
    "pop = dv.apply(func_for_eval, pop).result()"
   ]
  },
  {
   "cell_type": "markdown",
   "metadata": {},
   "source": [
    "> ## Runtime metrics"
   ]
  },
  {
   "cell_type": "code",
   "execution_count": 30,
   "metadata": {},
   "outputs": [],
   "source": [
    "mstats = runtime_metrics.init_stats()\n",
    "log = tools.Logbook()\n",
    "hof = tools.selBest(pop, 1)\n",
    "\n",
    "# Execution number (identifier)\n",
    "NEXEC = 1\n",
    "\n",
    "# Just an exibition function on terminal\n",
    "def printProgressBar (iteration, total, prefix = '', suffix = '', decimals = 1, length = 100, fill = '|'):\n",
    "    \"\"\"\n",
    "    Call in a loop to create terminal progress bar\n",
    "    @params:\n",
    "        iteration   - Required  : current iteration (Int)\n",
    "        total       - Required  : total iterations (Int)\n",
    "        prefix      - Optional  : prefix string (Str)\n",
    "        suffix      - Optional  : suffix string (Str)\n",
    "        decimals    - Optional  : positive number of decimals in percent complete (Int)\n",
    "        length      - Optional  : character length of bar (Int)\n",
    "        fill        - Optional  : bar fill character (Str)\n",
    "    \"\"\"\n",
    "    percent = (\"{0:.\" + str(decimals) + \"f}\").format(100 * (iteration / float(total)))\n",
    "    filledLength = int(length * iteration // total)\n",
    "    bar = fill * filledLength + '-' * (length - filledLength)\n",
    "    print('\\r%s |%s| %s%% %s' % (prefix, bar, percent, suffix), end = '\\r')\n",
    "    # Print New Line on Complete\n",
    "    if iteration == total: \n",
    "        print()"
   ]
  },
  {
   "cell_type": "markdown",
   "metadata": {},
   "source": [
    "> ## Final settings\n",
    "> Select the verbosity level:  \n",
    "> - `verb = 0`: Nothing\n",
    "> - `verb = 1`: Progress bar\n",
    "> - `verb = 2`: Runtime statistics for each generation"
   ]
  },
  {
   "cell_type": "code",
   "execution_count": 31,
   "metadata": {},
   "outputs": [],
   "source": [
    "# Verbosity level\n",
    "verb = 2\n",
    "\n",
    "# Results folder\n",
    "path = 'result_GP_' + str(NEXEC) + '/'\n",
    "results_folder.verify_create_dir(path)\n",
    "\n",
    "# Log files prefix\n",
    "filename = 'GP_'+ classifier + '_' + 'NEXEC'\n",
    "balance = 1"
   ]
  },
  {
   "cell_type": "markdown",
   "metadata": {},
   "source": [
    "> ## GP starts"
   ]
  },
  {
   "cell_type": "code",
   "execution_count": 32,
   "metadata": {},
   "outputs": [
    {
     "name": "stdout",
     "output_type": "stream",
     "text": [
      ">> (Exec 1) GP + nb - Feature Selection and Construction\n",
      ">> NGEN = 100 | NPOP = 25 | MAX_DEPTH = 10 | PARAM = [None, None]\n",
      ">> Optimizing: ['f1_S']\n",
      ">> Weights:    (1,)\n",
      "   \t    \t                    fitness                     \t           size           \n",
      "   \t    \t------------------------------------------------\t--------------------------\n",
      "gen\ttime\tavg      \tmax         \tmin \tstd     \tavg        \tstd       \n",
      "0  \t1.19\t[0.04062]\t[0.20498467]\t[0.]\t[0.0808]\t2.080078125\t1.23046875\n",
      "1  \t1.45\t[0.05408]\t[0.20498467]\t[0.]\t[0.0825]\t3.359375   \t1.830078125\n",
      "2  \t1.46\t[0.0733] \t[0.20498467]\t[0.]\t[0.0926]\t4.3203125  \t2.29296875 \n",
      "3  \t1.52\t[0.09424]\t[0.20498467]\t[0.]\t[0.09814]\t5.0390625  \t2.19921875 \n",
      "4  \t1.62\t[0.1321] \t[0.20498467]\t[0.]\t[0.0906] \t5.76171875 \t1.9658203125\n",
      "5  \t1.42\t[0.1544] \t[0.20563069]\t[0.]\t[0.0868] \t5.6015625  \t2.134765625 \n",
      "6  \t1.38\t[0.1313] \t[0.20563069]\t[0.]\t[0.09326]\t5.71875    \t2.375       \n",
      "7  \t1.42\t[0.1843] \t[0.20563069]\t[0.]\t[0.05597]\t5.51953125 \t1.8994140625\n",
      "8  \t1.51\t[0.1754] \t[0.20685779]\t[0.]\t[0.068]  \t5.921875   \t2.20703125  \n",
      "9  \t1.77\t[0.1605] \t[0.20720594]\t[0.]\t[0.08093]\t6.640625   \t1.89453125  \n",
      "10 \t1.63\t[0.1514] \t[0.31178034]\t[0.]\t[0.0965] \t5.6015625  \t2.298828125 \n",
      "11 \t1.34\t[0.1477] \t[0.31178034]\t[0.]\t[0.1169] \t5.71875    \t2.048828125 \n",
      "12 \t1.99\t[0.2434] \t[0.39258114]\t[0.]\t[0.0917] \t7.23828125 \t2.005859375 \n",
      "13 \t2.51\t[0.2842] \t[0.39258114]\t[0.]\t[0.0961] \t8.078125   \t1.8310546875\n",
      "14 \t3.3 \t[0.282]  \t[0.43564356]\t[0.]\t[0.1472] \t9.28125    \t0.91748046875\n",
      "15 \t5.71\t[0.3884] \t[0.43564356]\t[0.30721003]\t[0.0398] \t9.9609375  \t0.1959228515625\n",
      "16 \t6.31\t[0.412]  \t[0.44916201]\t[0.30044444]\t[0.03616]\t9.9609375  \t0.1959228515625\n",
      "17 \t6.46\t[0.393]  \t[0.46143705]\t[0.07287449]\t[0.09296]\t9.71875    \t1.1845703125   \n",
      "18 \t6.73\t[0.4092] \t[0.46143705]\t[0.08372093]\t[0.0861] \t9.8828125  \t0.324951171875 \n",
      "19 \t7.02\t[0.4353] \t[0.46143705]\t[0.24526601]\t[0.0394] \t9.9609375  \t0.1959228515625\n",
      "20 \t6.98\t[0.4316] \t[0.46687211]\t[0.30973451]\t[0.04446]\t9.9609375  \t0.1959228515625\n",
      "21 \t6.89\t[0.4473] \t[0.46687211]\t[0.32650673]\t[0.02855]\t9.84375    \t0.36669921875  \n",
      "22 \t7.14\t[0.4482] \t[0.47098214]\t[0.09919262]\t[0.07153]\t9.71875    \t0.448974609375 \n",
      "23 \t7.21\t[0.4438] \t[0.47098214]\t[0.09919262]\t[0.07416]\t9.5234375  \t0.49951171875  \n",
      "24 \t6.93\t[0.4338] \t[0.4837595] \t[0.13585746]\t[0.09076]\t9.7578125  \t0.427001953125 \n",
      "25 \t7.44\t[0.4573] \t[0.4884637] \t[0.20237175]\t[0.05362]\t9.84375    \t0.36669921875  \n",
      "26 \t6.62\t[0.4639] \t[0.4884637] \t[0.27168294]\t[0.04184]\t9.796875   \t0.400146484375 \n",
      "27 \t6.2 \t[0.4734] \t[0.4884637] \t[0.4]       \t[0.01953]\t9.71875    \t0.448974609375 \n",
      "28 \t6.1 \t[0.4766] \t[0.4884637] \t[0.29331268]\t[0.03775]\t9.7578125  \t0.427001953125 \n",
      "29 \t5.75\t[0.48]   \t[0.49385606]\t[0.28904992]\t[0.0391] \t9.921875   \t0.271240234375 \n",
      "30 \t5.9 \t[0.4878] \t[0.49487025]\t[0.46068966]\t[0.00815]\t10.0       \t0.0            \n",
      "31 \t5.19\t[0.4788] \t[0.495086]  \t[0.34987593]\t[0.03622]\t10.0       \t0.0            \n",
      "32 \t5.48\t[0.4622] \t[0.495086]  \t[0.19607843]\t[0.06854]\t10.0       \t0.0            \n",
      "33 \t5.36\t[0.4873] \t[0.49785408]\t[0.39511823]\t[0.02051]\t10.0       \t0.0            \n",
      "34 \t5.48\t[0.4702] \t[0.49785408]\t[0.19644034]\t[0.0696] \t10.0       \t0.0            \n",
      "35 \t5.29\t[0.4907] \t[0.49785408]\t[0.38685015]\t[0.02135]\t10.0       \t0.0            \n",
      "36 \t5.22\t[0.493]  \t[0.49785408]\t[0.42419482]\t[0.01464]\t10.0       \t0.0            \n",
      "37 \t5.05\t[0.4893] \t[0.49786975]\t[0.39511823]\t[0.02269]\t10.0       \t0.0            \n",
      "38 \t5.39\t[0.4868] \t[0.49789537]\t[0.25203714]\t[0.04803]\t10.0       \t0.0            \n",
      "39 \t5.4 \t[0.495]  \t[0.50554871]\t[0.45801527]\t[0.00861]\t10.0       \t0.0            \n",
      "40 \t5.71\t[0.4934] \t[0.50554871]\t[0.45325779]\t[0.010864]\t10.0       \t0.0            \n",
      "41 \t5.57\t[0.4763] \t[0.50554871]\t[0.29800763]\t[0.04843] \t10.0       \t0.0            \n",
      "42 \t5.67\t[0.4954] \t[0.50554871]\t[0.40994725]\t[0.01839] \t10.0       \t0.0            \n",
      "43 \t5.94\t[0.4885] \t[0.50554871]\t[0.36549957]\t[0.03543] \t10.0       \t0.0            \n",
      "44 \t6.43\t[0.4963] \t[0.507201]  \t[0.44660194]\t[0.01643] \t10.0       \t0.0            \n",
      "45 \t363.33\t[0.4756] \t[0.507201]  \t[0.00976801]\t[0.09827] \t10.0       \t0.0            \n",
      "46 \t7.81  \t[0.482]  \t[0.507201]  \t[0.20204313]\t[0.0686]  \t10.0       \t0.0            \n",
      "47 \t7.89  \t[0.5]    \t[0.51400731]\t[0.41568627]\t[0.01927] \t10.0       \t0.0            \n",
      "48 \t7.05  \t[0.48]   \t[0.51400731]\t[0.20092025]\t[0.06665] \t10.0       \t0.0            \n",
      "49 \t6.26  \t[0.4924] \t[0.51400731]\t[0.20217062]\t[0.05994] \t10.0       \t0.0            \n",
      "50 \t6.4   \t[0.5015] \t[0.51400731]\t[0.40372671]\t[0.02327] \t10.0       \t0.0            \n",
      "51 \t5.84  \t[0.5]    \t[0.51400731]\t[0.38361918]\t[0.02834] \t10.0       \t0.0            \n",
      "52 \t5.8   \t[0.5005] \t[0.51400731]\t[0.40372671]\t[0.02505] \t10.0       \t0.0            \n",
      "53 \t6.17  \t[0.51]   \t[0.51400731]\t[0.47950429]\t[0.007328]\t10.0       \t0.0            \n",
      "54 \t6.26  \t[0.5117] \t[0.51400731]\t[0.49851983]\t[0.00357] \t10.0       \t0.0            \n",
      "55 \t6.08  \t[0.5083] \t[0.51581509]\t[0.46206897]\t[0.01316] \t10.0       \t0.0            \n",
      "56 \t5.84  \t[0.5103] \t[0.51400731]\t[0.47477745]\t[0.00892] \t10.0       \t0.0            \n",
      "57 \t6.12  \t[0.5063] \t[0.51400731]\t[0.4648986] \t[0.01272] \t10.0       \t0.0            \n",
      "58 \t6.25  \t[0.509]  \t[0.51400731]\t[0.48173005]\t[0.01023] \t10.0       \t0.0            \n",
      "59 \t6.3   \t[0.4966] \t[0.51400731]\t[0.20420889]\t[0.06052] \t9.8828125  \t0.587890625    \n",
      "60 \t6.48  \t[0.4968] \t[0.51400731]\t[0.20919724]\t[0.05945] \t10.0       \t0.0            \n",
      "61 \t7.62  \t[0.497]  \t[0.51491175]\t[0.22501787]\t[0.05792] \t10.0       \t0.0            \n",
      "62 \t6.88  \t[0.491]  \t[0.51491175]\t[0.20344168]\t[0.0617]  \t10.0       \t0.0            \n",
      "63 \t6.25  \t[0.502]  \t[0.51491175]\t[0.33842795]\t[0.03497] \t10.0       \t0.0            \n",
      "64 \t6.66  \t[0.493]  \t[0.51491175]\t[0.24950232]\t[0.05978] \t10.0       \t0.0            \n",
      "65 \t6.46  \t[0.5107] \t[0.51491175]\t[0.48759831]\t[0.007935]\t10.0       \t0.0            \n",
      "66 \t5.98  \t[0.5083] \t[0.51491175]\t[0.40372671]\t[0.02238] \t10.0       \t0.0            \n",
      "67 \t7.11  \t[0.492]  \t[0.51491175]\t[0.20196424]\t[0.0643]  \t10.0       \t0.0            \n",
      "68 \t6.01  \t[0.504]  \t[0.51491175]\t[0.3604344] \t[0.03073] \t10.0       \t0.0            \n",
      "69 \t7.45  \t[0.4922] \t[0.51491175]\t[0.20061888]\t[0.06165] \t10.0       \t0.0            \n",
      "70 \t6.26  \t[0.4832] \t[0.51491175]\t[0.]        \t[0.1012]  \t9.84375    \t0.78369140625  \n",
      "71 \t6.26  \t[0.504]  \t[0.51491175]\t[0.4138756] \t[0.02234] \t10.0       \t0.0            \n",
      "72 \t6.32  \t[0.502]  \t[0.51491175]\t[0.33842795]\t[0.0351]  \t10.0       \t0.0            \n",
      "73 \t6.56  \t[0.4873] \t[0.51491175]\t[0.20105107]\t[0.06696] \t10.0       \t0.0            \n",
      "74 \t5.89  \t[0.5107] \t[0.51491175]\t[0.48453608]\t[0.00709] \t10.0       \t0.0            \n",
      "75 \t6.85  \t[0.51]   \t[0.51491175]\t[0.47474747]\t[0.01088] \t10.0       \t0.0            \n",
      "76 \t6.2   \t[0.506]  \t[0.51491175]\t[0.40372671]\t[0.02249] \t10.0       \t0.0            \n",
      "77 \t5.98  \t[0.4993] \t[0.51491175]\t[0.33842795]\t[0.03635] \t10.0       \t0.0            \n",
      "78 \t5.84  \t[0.5063] \t[0.51491175]\t[0.44836066]\t[0.01544] \t10.0       \t0.0            \n",
      "79 \t6.42  \t[0.5073] \t[0.51522533]\t[0.4034632] \t[0.02254] \t10.0       \t0.0            \n",
      "80 \t6.26  \t[0.5127] \t[0.51522533]\t[0.46851607]\t[0.00922] \t10.0       \t0.0            \n",
      "81 \t5.66  \t[0.5044] \t[0.51584835]\t[0.4034135] \t[0.03]    \t10.0       \t0.0            \n",
      "82 \t5.97  \t[0.5063] \t[0.51522533]\t[0.4034135] \t[0.02289] \t10.0       \t0.0            \n",
      "83 \t6.24  \t[0.5137] \t[0.51522533]\t[0.50268657]\t[0.003637]\t10.0       \t0.0            \n",
      "84 \t6.15  \t[0.4993] \t[0.51522533]\t[0.19328494]\t[0.0628]  \t10.0       \t0.0            \n",
      "85 \t6.03  \t[0.5073] \t[0.51522533]\t[0.44008351]\t[0.01709] \t10.0       \t0.0            \n",
      "86 \t6.3   \t[0.5117] \t[0.51522533]\t[0.48680352]\t[0.006752]\t10.0       \t0.0            \n",
      "87 \t6.22  \t[0.503]  \t[0.51522533]\t[0.32658165]\t[0.03787] \t10.0       \t0.0            \n",
      "88 \t6.26  \t[0.5083] \t[0.51522533]\t[0.48053691]\t[0.011475]\t10.0       \t0.0            \n",
      "89 \t6.21  \t[0.5005] \t[0.51522533]\t[0.25327035]\t[0.05115] \t10.0       \t0.0            \n",
      "90 \t5.79  \t[0.507]  \t[0.51522533]\t[0.47540984]\t[0.01205] \t10.0       \t0.0            \n",
      "91 \t6.32  \t[0.5063] \t[0.51522533]\t[0.47384306]\t[0.014]   \t10.0       \t0.0            \n",
      "92 \t6.32  \t[0.51]   \t[0.51522533]\t[0.48173005]\t[0.00925] \t10.0       \t0.0            \n",
      "93 \t6.12  \t[0.4912] \t[0.51522533]\t[0.202387]  \t[0.0632]  \t10.0       \t0.0            \n",
      "94 \t6.64  \t[0.4966] \t[0.51522533]\t[0.21527873]\t[0.05838] \t10.0       \t0.0            \n"
     ]
    },
    {
     "name": "stdout",
     "output_type": "stream",
     "text": [
      "95 \t6.09  \t[0.5073] \t[0.51522533]\t[0.45065789]\t[0.01509] \t10.0       \t0.0            \n",
      "96 \t6.02  \t[0.472]  \t[0.51522533]\t[0.00232019]\t[0.104]   \t9.7578125  \t1.17578125     \n",
      "97 \t6.68  \t[0.4902] \t[0.51522533]\t[0.20219614]\t[0.06082] \t10.0       \t0.0            \n",
      "98 \t6.4   \t[0.509]  \t[0.51553931]\t[0.48463476]\t[0.010056]\t10.0       \t0.0            \n",
      "99 \t6.03  \t[0.504]  \t[0.51553931]\t[0.33859554]\t[0.0349]  \t10.0       \t0.0            \n",
      "\n",
      ">> End (15 minutes)\n",
      "\n"
     ]
    }
   ],
   "source": [
    "if verb >= 1:\n",
    "    print(\">> (Exec \" + str(NEXEC) + \") GP + \" + classifier + \" - Feature Selection and Construction\")\n",
    "    print(\">> NGEN = \" + str(NGEN) + \" | NPOP = \" + str(NPOP) + \" | MAX_DEPTH = \" + str(TAM_MAX) + \" | PARAM = \" + str(clf_param))\n",
    "    print(\">> Optimizing: \" + str(opt_vars))\n",
    "    print(\">> Weights:    \" + str(wts_vars))\n",
    "    # if verb == 1:\n",
    "    #    sys.stdout.write(\"[%s]\" % (\" \" * toolbar_width))\n",
    "    #    sys.stdout.flush()\n",
    "    #    sys.stdout.write(\"\\b\" * (toolbar_width+1))\n",
    "    \n",
    "if verb == 1:\n",
    "    printProgressBar(0, NGEN, prefix = '>> Progress:', suffix = 'Complete', length = 50)\n",
    "\n",
    "for g in range(NGEN):\n",
    "    geninit = time.time()\n",
    "    \n",
    "    if verb == 1:\n",
    "        printProgressBar(g + 1, NGEN, prefix = '>> Progress:', suffix = 'Complete', length = 50)\n",
    "\n",
    "    pop = toolbox.select(pop, NPOP)\n",
    "\n",
    "    if USE_MULTIPROCESSING > 0:\n",
    "        offspring = list(map(toolbox.clone, pop))\n",
    "        offspring = p.map(fmate, list(zip(offspring[::2], offspring[1::2])))\n",
    "        offspring = [xx for sub in offspring for xx in sub]\n",
    "        offspring = p.map(fmutate, offspring)\n",
    "        offspring = p.map(ff, offspring)\n",
    "    else:\n",
    "        offspring = algorithms.varAnd(pop, toolbox, CXPB, MUTPB)\n",
    "        fitnesses = list(map(toolbox.evaluate, offspring))\n",
    "\n",
    "        for ind, fit in zip(offspring, fitnesses):\n",
    "            ind.fitness.values = fit\n",
    "            if (math.isnan(fit[0])):\n",
    "                ind.fitness.values = 0,\n",
    "            else:\n",
    "                ind.fitness.values = fit\n",
    "\n",
    "    hof = tools.selBest(pop, 1)\n",
    "\n",
    "    pop[:] = offspring + hof\n",
    "    log.record(gen = g, time = round(time.time() - geninit, 2),**mstats.compile(pop))\n",
    "\n",
    "    if verb == 2:\n",
    "        print(log.stream)\n",
    "\n",
    "end = time.time()\n",
    "\n",
    "total_time = end - start\n",
    "\n",
    "if verb >= 1:\n",
    "    if total_time < 60:\n",
    "        print(\"\\n>> End (\" + str(round(total_time)) + \" seconds)\\n\")\n",
    "    elif total_time < 3600:\n",
    "        print(\"\\n>> End (\" + str(round(total_time/60)) + \" minutes)\\n\")\n",
    "    else:\n",
    "        print(\"\\n>> End (\" + str(math.floor(total_time/3600)) + \" hours and \" + str(round(abs(math.floor(total_time/3600)-total_time/3600)*60)) + \" minutes)\\n\")\n",
    "\n",
    "logfile = open(os.path.join(path, \"log/LOG_\" + filename + \"_\" + str(NEXEC) + \".csv\"), 'w')\n",
    "logfile.write(str(log))\n",
    "logfile.close()\n",
    "\n",
    "prf, acc, cfm, AUC = fitness.performance(hof[0], classifier, X_train, y_train, X_test, y_test, pset, clf_param, external, n_jobs = n_jobs)\n",
    "\n",
    "info_file_name = os.path.join(path,\"infoGP.csv\")\n",
    "infoGP = open(info_file_name, 'a')\n",
    "if os.stat(info_file_name).st_size == 0:\n",
    "    infoGP.write(\"balance,DEEP MAX,classifier,P1,P2,#Exec,PPV_S,PPV_NS,TPR_S,TPR_NS,F1_S,F1_NS,SUP_S,SUP_NS,TN,FP,FN,TP,Acc,AUC,Deep,Training Time\\n\")\n",
    "\n",
    "infoGP.write(str(balance) + ',' + str(TAM_MAX) + ',' + classifier + ',' + str(clf_param[0]) + ',' + str(clf_param[1]) + ',' +  str(NEXEC) + ',' + str(prf[0][0]) + ',' \n",
    "        + str(prf[0][1]) + ',' + str(prf[1][0]) + ',' + str(prf[1][1]) + ',' + str(prf[2][0]) + ',' \n",
    "        + str(prf[2][1]) + ',' + str(prf[3][0]) + ',' + str(prf[3][1]) + ',' \n",
    "        + str(cfm[0]) + ',' + str(cfm[1]) + ',' + str(cfm[2]) + ',' + str(cfm[3]) + ',' \n",
    "        + str(acc) + ',' + str(AUC) + ',' + str(hof[0].height) + ',' + str(total_time) + '\\n')\n",
    "\n",
    "infoGP.close()\n",
    "\n",
    "tree = gp.PrimitiveTree(hof[0])\n",
    "expFILE = open(path + \"best_expr/EXPR_\" + filename + \"_\" +  str(NEXEC) + \".txt\", 'w')\n",
    "expFILE.write(str(tree))\n",
    "expFILE.close()"
   ]
  },
  {
   "cell_type": "markdown",
   "metadata": {},
   "source": [
    "> ## Visualize the best feature set created"
   ]
  },
  {
   "cell_type": "code",
   "execution_count": 19,
   "metadata": {},
   "outputs": [
    {
     "name": "stdout",
     "output_type": "stream",
     "text": [
      "8 features\n",
      "Feature 0: ARG0*ARG59\n",
      "Feature 1: log(ARG11)**3\n",
      "Feature 2: ARG16*log(ARG11)\n",
      "Feature 3: log(ARG11)**2\n",
      "Feature 4: -ARG16 + ARG33\n",
      "Feature 5: ARG16\n",
      "Feature 6: ARG59\n",
      "Feature 7: ARG0\n"
     ]
    }
   ],
   "source": [
    "features = list(set(visualize.get_equations_simplified(hof[0])))\n",
    "print(str(len(features)) + ' features')\n",
    "for i in list(range(len(features))):\n",
    "    print('Feature ' + str(i) + ': ' + str(features[i]))"
   ]
  },
  {
   "cell_type": "markdown",
   "metadata": {},
   "source": [
    "> ## Detailed performance"
   ]
  },
  {
   "cell_type": "code",
   "execution_count": 20,
   "metadata": {},
   "outputs": [
    {
     "name": "stdout",
     "output_type": "stream",
     "text": [
      "Precision:  0.4785\n",
      "Recall   :  0.5835\n",
      "F1-Score :  0.5258\n",
      "Accuracy :  0.8828\n",
      "AUC      :  0.7519\n",
      "Confusion Matrix: \n",
      " \t0   \t1   \n",
      "0\t5887\t510\n",
      "1\t334\t468\n"
     ]
    }
   ],
   "source": [
    "prf, acc, cfm, AUC = fitness.performance(hof[0], classifier, X_train, y_train, X_test, y_test, pset, clf_param, external, n_jobs = n_jobs)\n",
    "print('Precision: ', round(prf[0][0], 4))\n",
    "print('Recall   : ', round(prf[1][0], 4))\n",
    "print('F1-Score : ', round(prf[2][0], 4))\n",
    "print('Accuracy : ', round(acc, 4))\n",
    "print('AUC      : ', round(AUC, 4))\n",
    "print('Confusion Matrix: ')\n",
    "print(' \\t0   \\t1   ')\n",
    "print('0\\t'+str(cfm[0])+'\\t'+str(cfm[1]))\n",
    "print('1\\t'+str(cfm[2])+'\\t'+str(cfm[3]))"
   ]
  },
  {
   "cell_type": "markdown",
   "metadata": {},
   "source": [
    "> ## Final GP tree\n",
    "If the plot appears wierd, please run this instruction twice"
   ]
  },
  {
   "cell_type": "code",
   "execution_count": 22,
   "metadata": {},
   "outputs": [
    {
     "data": {
      "image/png": "[encoded data removed]",
      "text/plain": [
       "<Figure size 1800x1152 with 1 Axes>"
      ]
     },
     "metadata": {},
     "output_type": "display_data"
    }
   ],
   "source": [
    "visualize.plot_tree(hof[0], path = path + \"best_expr/EXPR_\" + filename + \"_\" +  str(NEXEC) + \".pdf\")"
   ]
  },
  {
   "cell_type": "markdown",
   "metadata": {},
   "source": [
    "> ## Conclusion\n",
    "> Check the results folder:  \n",
    "> Runtime information at **results_GP_1/log**  \n",
    "> The best feature set and the tree plot at **results_GP_1/best_expr**  \n",
    "> The best feature set at **results_GP_1/infoGP.csv**"
   ]
  }
 ],
 "metadata": {
  "kernelspec": {
   "display_name": "Python 3",
   "language": "python",
   "name": "python3"
  },
  "language_info": {
   "codemirror_mode": {
    "name": "ipython",
    "version": 3
   },
   "file_extension": ".py",
   "mimetype": "text/x-python",
   "name": "python",
   "nbconvert_exporter": "python",
   "pygments_lexer": "ipython3",
   "version": "3.5.2"
  }
 },
 "nbformat": 4,
 "nbformat_minor": 2
}
