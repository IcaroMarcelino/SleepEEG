{
 "cells": [
  {
   "cell_type": "markdown",
   "metadata": {},
   "source": [
    "> ## Parallelism/Optimization\n",
    "> This code is optmized with core multiprocessing. On variable **USE_MULTIPROCESSING** set the maximum number of parallel operations that the program can run.  \n",
    "> If you don't use it, set `USE_MULTIPROCESSING = 0`"
   ]
  },
  {
   "cell_type": "code",
   "execution_count": 1,
   "metadata": {},
   "outputs": [
    {
     "name": "stdout",
     "output_type": "stream",
     "text": [
      "Using 4 parallel tasks\n"
     ]
    }
   ],
   "source": [
    "import psutil\n",
    "USE_MULTIPROCESSING = psutil.cpu_count()\n",
    "\n",
    "print('Using ' + str(USE_MULTIPROCESSING) + ' parallel tasks')"
   ]
  },
  {
   "cell_type": "markdown",
   "metadata": {},
   "source": [
    "> ## Library imports"
   ]
  },
  {
   "cell_type": "code",
   "execution_count": 2,
   "metadata": {},
   "outputs": [],
   "source": [
    "import os, shutil\n",
    "import sys\n",
    "\n",
    "if not sys.warnoptions:\n",
    "    import warnings\n",
    "    warnings.simplefilter(\"ignore\")\n",
    "    \n",
    "if os.path.isdir(\"__pycache__\"):\n",
    "    shutil.rmtree(\"__pycache__\")\n",
    "\n",
    "# Our code\n",
    "from modules.balance_dataset import input_output\n",
    "from modules.evaluation import fitness\n",
    "from modules.utils import results_folder\n",
    "from modules import visualize\n",
    "from modules import operator_set\n",
    "\n",
    "import operator\n",
    "\n",
    "from deap import algorithms\n",
    "from deap import base\n",
    "from deap import creator\n",
    "from deap import tools\n",
    "from deap import gp\n",
    "from deap import tools\n",
    "\n",
    "from modules.statistics import runtime_metrics\n",
    "import time\n",
    "import numpy as np\n",
    "import math\n",
    "import random\n",
    "\n",
    "import pandas as pd\n",
    "\n",
    "if USE_MULTIPROCESSING > 0:\n",
    "    import multiprocessing as mp\n",
    "    from multiprocessing import Pool"
   ]
  },
  {
   "cell_type": "markdown",
   "metadata": {},
   "source": [
    "> ## Files\n",
    "> Set the folder where files are on **DATASET_FOLDER**.  \n",
    "> Specify the data files you want to use on **FILE_LIST**.\n",
    ">  \n",
    "> ### File format\n",
    "> The files must be on csv format without header. One of the columns must be the label column\n",
    ">   \n",
    "> ### Example\n",
    "> The following files are the same data used on our GECCO 2019 paper. The csv files contain the preprocessed data from [DREAMS project](http://www.tcts.fpms.ac.be/~devuyst/Databases/DatabaseSpindles/). Each file represent an patient and each row contain the 75 initial extracted features from an 2 s signal segment.  \n",
    "> The two last columns are the data labels. Column 75 indicates with the label '1' the samples which both specialist agreed that are spindles. Column 76 indicates with the label '1' any sample marked as spindle"
   ]
  },
  {
   "cell_type": "code",
   "execution_count": 3,
   "metadata": {},
   "outputs": [],
   "source": [
    "# DATASET_FOLDER = 'modules/data/500ms'\n",
    "# FILE_LIST = ['wav_ex2_spindles.csv','wav_ex3_spindles.csv','wav_ex4_spindles.csv','wav_ex5_spindles.csv','wav_ex6_spindles.csv','wav_ex7_spindles.csv','wav_ex8_spindles.csv']\n",
    "\n",
    "DATASET_FOLDER = 'modules/data/2000ms'\n",
    "FILE_LIST = ['wav75_ex2_.csv','wav75_ex3_.csv','wav75_ex4_.csv','wav75_ex5_.csv','wav75_ex6_.csv','wav75_ex7_.csv','wav75_ex8_.csv']"
   ]
  },
  {
   "cell_type": "markdown",
   "metadata": {},
   "source": [
    "> ## Importing data"
   ]
  },
  {
   "cell_type": "code",
   "execution_count": 4,
   "metadata": {},
   "outputs": [],
   "source": [
    "data = input_output.read_dataset_list(DATASET_FOLDER, FILE_LIST)\n",
    "X_train, y_train, X_test, y_test = input_output.balance_dataset(data, data_columns = list(range(0,75)), label_column = 75, test_size = 0.33)\n",
    "\n",
    "df = pd.read_csv('modules/data/2000ms/wav75_ex1_.csv', header = None)\n",
    "X_test = df[df.columns[0:75]].values\n",
    "y_test = df[df.columns[76]].values\n",
    "\n",
    "# One hot vector\n",
    "y_train = np.array([[x, int(not x)] for x in y_train])\n",
    "y_test  = np.array([[x, int(not x)] for x in y_test])\n",
    "n_att = 75\n",
    "\n",
    "# data = input_output.read_dataset_list(DATASET_FOLDER, FILE_LIST)\n",
    "# X_train, y_train, X_test, y_test = input_output.balance_dataset(data, data_columns = list(range(0,75)), label_column = 75, test_size = 0.33)\n",
    "\n",
    "## One hot vector\n",
    "# y_train = np.array([[x, int(not x)] for x in y_train])\n",
    "# y_test  = np.array([[x, int(not x)] for x in y_test])\n",
    "\n",
    "# Number of inputs/Data dimension\n",
    "# n_att = 75"
   ]
  },
  {
   "cell_type": "markdown",
   "metadata": {},
   "source": [
    "> ## Evaluation metric\n",
    "> Our *fitness* function optimize one or more classification metrics. On **opt_vars**, select those metrics.\n",
    "> Options:\n",
    "> - **acc**: Accuracy\n",
    "> - **auc**: AUC Score\n",
    "> - **prec_S**: Precision (Spindles as class 1)\n",
    "> - **prec_NS**: Precision (Not spindles as class 1)\n",
    "> - **rec_NS**: Recall (Not Spindles as class 1)\n",
    "> - **rec_S**: Recall (Spindles as class 1)\n",
    "> - **f1_NS**: F1 Score (Not Spindles as class 1)\n",
    "> - **f1_S**: F1 Score (Spindles as class 1)\n",
    "> - **TN**: True Negatives Number\n",
    "> - **FP**: False Positives Number\n",
    "> - **TP**: True Positives Number\n",
    "> - **FN**: False Negatives Number\n",
    ">  \n",
    "> On **wts_vars**, create a tuple with each metric weight. Positive weights mean that the GP will try to maximize the metric. For the negative ones, GP will try to minimize.  \n",
    "> Example:  \n",
    "> `opt_vars = ['FP', 'TP']`    \n",
    "> `wts_vars = tuple([-1, 2])`"
   ]
  },
  {
   "cell_type": "code",
   "execution_count": 5,
   "metadata": {},
   "outputs": [
    {
     "name": "stdout",
     "output_type": "stream",
     "text": [
      "Maximizing (f1_S) with weight (1)\n"
     ]
    }
   ],
   "source": [
    "opt_vars = ['f1_S']\n",
    "wts_vars = tuple([1])\n",
    "eval_func = fitness.eval_function(opt_vars)\n",
    "'''\n",
    "    Result: eval_func -> auc = lambda(y_true, y_pred)\n",
    "\n",
    "    Anothe example:\n",
    "        eval_func = fitness.eval_function(['auc', 'acc'])\n",
    "        Result: eval_func -> auc, acc = lambda(y_true, y_pred)\n",
    "'''\n",
    "'''\n",
    "    Multiparameter optimization\n",
    "    opt_vars -> evaluation metrics\n",
    "    wts_vars -> tuple with each metric weight\n",
    "    \n",
    "    Example: Optimizing False positives and True positives\n",
    "    opt_vars = [FP, TP]\n",
    "    wts_vars = tuple([-1, 2])\n",
    "    \n",
    "    It means that we want to reduce False positives and maximize True positives. And it is more \n",
    "    important to have True positives, because we have set its weight higher.\n",
    "'''\n",
    "for v, w in zip(opt_vars, list(wts_vars)):\n",
    "    if w > 0:\n",
    "        print('Maximizing (' + v + ') with weight (' + str(w) + ')')\n",
    "    else:\n",
    "        print('Minimizing (' + v + ') with weight (' + str(-1*w) + ')')\n"
   ]
  },
  {
   "cell_type": "markdown",
   "metadata": {},
   "source": [
    "> ## Target Classifier\n",
    "> Our aproach create features that improves a classifier performance. In this code, we set 5 default classifiers (set on variable):\n",
    "> - nb: Naive Bayes  \n",
    "> - dt: Decision Tree  \n",
    "> - mlp: Multilayer Perceptron  \n",
    "> - knn: K Nearest Neighbors  \n",
    "> - svm: Support Vector Machine  \n",
    "> - kmeans: K-means Clustering (Using each cluster as a class of the problem)  \n",
    ">  \n",
    "> If you want to use them, it is necessary to set their parameters:\n",
    "> - nb: \\[None, None\\]\n",
    "> - dt: \\[None, None\\]\n",
    "> - mlp: \\[first hidden layer size,activation function\\]\n",
    "> - knn: \\[K, None\\]\n",
    "> - svm: \\[None,kernel\\]\n",
    "> - kmeans: \\[K, None\\]\n",
    ">  \n",
    "> Example:  \n",
    "> `classifier = 'svm'`   \n",
    "> `clf_param = [None, 'rbf']`  \n",
    "> `external = False`\n",
    ">  \n",
    ">  ### Using a different classifier\n",
    "> If you want to use a different classifier, it needs the following methods (like scikit-learn):\n",
    "> - fit(X,y): Trains the classifier\n",
    "> - predict(X): Returns a predict label array given the data X\n",
    "> - predict_proba(X): Return the predictiom probability for each sample in X\n",
    ">   \n",
    "> Example:  \n",
    "> `from sklearn.ensemble import RandomForestClassifier`  \n",
    "> `classifier = 'rf'`  \n",
    "> `external = RandomForestClassifier(n_estimators=100, max_depth=2, random_state=0)`"
   ]
  },
  {
   "cell_type": "code",
   "execution_count": 6,
   "metadata": {},
   "outputs": [
    {
     "name": "stdout",
     "output_type": "stream",
     "text": [
      "Using nb classifier\n"
     ]
    }
   ],
   "source": [
    "classifier = 'nb'\n",
    "external = False\n",
    "clf_param = [None,None] \n",
    "'''\n",
    "    options:\n",
    "        nb: Naive Bayes; params: None\n",
    "        dt: Decision Tree; params: None\n",
    "        mlp: Multilayer Perceptron; params: [first hidden layer size,activation function]\n",
    "        knn: K Nearest Neighbors; params: [K,-1]\n",
    "        svm: Support Vector Machine; params: [-1,kernel]\n",
    "        kmeans: K-means Clustering (Using each cluster as a class of the problem); params: [number of clusters, -1]\n",
    "        external: Default = False. You can use any classifier, but the following methods (like scikit-learn):\n",
    "            fit(X, y)\n",
    "            predict(X)\n",
    "            predict_proba(X)\n",
    "\n",
    "    Example 1:\n",
    "    from sklearn.ensemble import RandomForestClassifier\n",
    "    classifier = 'rf'\n",
    "    external = RandomForestClassifier(n_estimators=100, max_depth=2, random_state=0)\n",
    "    \n",
    "    Example 2:\n",
    "    classifier = 'nb'\n",
    "    external = False\n",
    "    \n",
    "    Example 3:\n",
    "    classifier = 'svm'\n",
    "    clf_param = [None, 'rbf']\n",
    "    external = False\n",
    "'''\n",
    "print('Using ' + classifier + ' classifier')"
   ]
  },
  {
   "cell_type": "markdown",
   "metadata": {},
   "source": [
    "> ## GP operator set\n",
    "> As described on our paper, we have set protected operators for division, log and square root to avoid math domain problems.  \n",
    "> Check it on **modules/operator_set**"
   ]
  },
  {
   "cell_type": "code",
   "execution_count": 7,
   "metadata": {},
   "outputs": [],
   "source": [
    "pset = gp.PrimitiveSet(\"MAIN\", n_att)\n",
    "pset.addPrimitive(operator.add, 2)\n",
    "pset.addPrimitive(operator.sub, 2)\n",
    "pset.addPrimitive(operator.mul, 2)\n",
    "pset.addPrimitive(operator_set.plog, 1)\n",
    "pset.addPrimitive(operator_set.psqrt, 1)\n",
    "pset.addPrimitive(operator_set.pdiv, 2)\n",
    "pset.addPrimitive(operator_set.F, 1)\n",
    "# pset.addPrimitive(math.sin, 1)\n",
    "# pset.addPrimitive(math.cos, 1)\n",
    "# pset.addPrimitive(operator.neg, 1)"
   ]
  },
  {
   "cell_type": "markdown",
   "metadata": {},
   "source": [
    "> ## GP parameters  \n",
    "> Set here:  \n",
    "> - Population size  \n",
    "> - Number of generations  \n",
    "> - Crossover type and probability  \n",
    "> - Mutation type and probability  \n",
    "> - Individual initialization and selection\n",
    ">  \n",
    ">  Se more parameters types on [DEAP documentation](https://deap.readthedocs.io/en/0.7-0/api/tools.html)"
   ]
  },
  {
   "cell_type": "code",
   "execution_count": 8,
   "metadata": {},
   "outputs": [],
   "source": [
    "# Population size\n",
    "NPOP = 100\n",
    "\n",
    "# Number of generations\n",
    "NGEN = 50\n",
    "\n",
    "# Crossover probability\n",
    "CXPB = .85\n",
    "\n",
    "# Mutation probability\n",
    "MUTPB = .15\n",
    "\n",
    "creator.create(\"FitnessMulti\", base.Fitness, weights = wts_vars)\n",
    "creator.create(\"Individual\", gp.PrimitiveTree, fitness=creator.FitnessMulti)\n",
    "\n",
    "toolbox = base.Toolbox()\n",
    "# Individual and population\n",
    "toolbox.register(\"expr\", gp.genHalfAndHalf, pset=pset, min_=1, max_=3)\n",
    "toolbox.register(\"individual\", tools.initIterate, creator.Individual, toolbox.expr)\n",
    "toolbox.register(\"population\", tools.initRepeat, list, toolbox.individual)\n",
    "toolbox.register(\"compile\", gp.compile, pset=pset)\n",
    "\n",
    "# Evaluation method\n",
    "toolbox.register(\"evaluate\", fitness.eval_tree, clf = classifier, X_train = X_train, y_train = y_train, X_test = X_test, y_true = y_test, pset = pset, opt_vars = opt_vars, eval_func = eval_func, param = clf_param, external = external)\n",
    "\n",
    "# Initialization\n",
    "# toolbox.register(\"expr_init\", gp.genFull, min_=4, max_=7)\n",
    "# toolbox.register(\"expr_init\", gp.genGrow, min_=4, max_=7)\n",
    "toolbox.register(\"expr_init\", gp.genHalfAndHalf, min_=4, max_=7)\n",
    "\n",
    "# Selection\n",
    "toolbox.register(\"select\", tools.selTournament, tournsize=3)\n",
    "# toolbox.register(\"select\", tools.selRoulette)\n",
    "# toolbox.register(\"select\", tools.selRandom)\n",
    "\n",
    "# Crossover\n",
    "toolbox.register(\"mate\", gp.cxOnePoint)\n",
    "# toolbox.register(\"mate\", gp.cxTwoPoint)\n",
    "# toolbox.register(\"mate\", gp.cxcxOnePointLeafBiased, termpb =.1)\n",
    "\n",
    "# Mutation\n",
    "toolbox.register(\"mutate\", gp.mutUniform, expr=toolbox.expr_init, pset=pset)\n",
    "# toolbox.register(\"mutate\", gp.mutNodeReplacement, pset=pset)\n",
    "# toolbox.register(\"mutate\", gp.mutInsert, pset=pset)\n",
    "# toolbox.register(\"mutate\", gp.mutShrink)toolbox.register(\"mutate\", gp.mutEphemeral, mode = 'all')"
   ]
  },
  {
   "cell_type": "markdown",
   "metadata": {},
   "source": [
    "> ## Bloat Control\n",
    "> We have used an simple bloat control limiting the maximum individual tree heigth.  \n",
    "> Set it on **TAM_MAX**. If you have low computational resources, we recommend **TAM_MAX** < 20 \n"
   ]
  },
  {
   "cell_type": "code",
   "execution_count": 9,
   "metadata": {},
   "outputs": [],
   "source": [
    "# Bloat Control\n",
    "TAM_MAX = 10\n",
    "toolbox.decorate(\"mate\", gp.staticLimit(key=operator.attrgetter(\"height\"), max_value = TAM_MAX))\n",
    "toolbox.decorate(\"mutate\", gp.staticLimit(key=operator.attrgetter(\"height\"), max_value = TAM_MAX))"
   ]
  },
  {
   "cell_type": "markdown",
   "metadata": {},
   "source": [
    "> ## Create population 0"
   ]
  },
  {
   "cell_type": "code",
   "execution_count": 10,
   "metadata": {
    "scrolled": true
   },
   "outputs": [],
   "source": [
    "start = time.time()\n",
    "\n",
    "pop = toolbox.population(NPOP)\n",
    "\n",
    "# Much faster!\n",
    "if USE_MULTIPROCESSING > 0:\n",
    "    def ff(ind):\n",
    "        fit = fitness.eval_tree(ind, clf = classifier, X_train = X_train, y_train = y_train, X_test = X_test, y_true = y_test, pset = pset, opt_vars = opt_vars, eval_func = eval_func, param = clf_param, external = external)\n",
    "        if (math.isnan(fit[0])):\n",
    "            ind.fitness.values = 0,\n",
    "        else:\n",
    "            ind.fitness.values = fit\n",
    "        return ind\n",
    "\n",
    "    def fmate(children):\n",
    "        if random.random() < CXPB:\n",
    "            children = toolbox.mate(children[0], children[1])\n",
    "            del children[0].fitness.values\n",
    "            del children[1].fitness.values\n",
    "        return children[0], children[1]\n",
    "    \n",
    "    def fmutate(mutant):\n",
    "        if random.random() < MUTPB:\n",
    "            mutant = toolbox.mutate(mutant)[0]\n",
    "            del mutant.fitness.values\n",
    "        return mutant\n",
    "    \n",
    "    # t1 = time.time()\n",
    "    p = Pool(USE_MULTIPROCESSING)\n",
    "    pop = p.map(ff, pop)\n",
    "    # t2 = time.time()\n",
    "      \n",
    "else:\n",
    "    # t3 = time.time()\n",
    "    fitnesses = list(map(toolbox.evaluate, pop))\n",
    "    \n",
    "    for ind, fit in zip(pop, fitnesses):\n",
    "        ind.fitness.values = fit\n",
    "        if (math.isnan(fit[0])):\n",
    "            ind.fitness.values = 0,\n",
    "        else:\n",
    "            ind.fitness.values = fit\n",
    "    # t4 = time.time()"
   ]
  },
  {
   "cell_type": "markdown",
   "metadata": {},
   "source": [
    "> ## Runtime metrics"
   ]
  },
  {
   "cell_type": "code",
   "execution_count": 11,
   "metadata": {},
   "outputs": [],
   "source": [
    "mstats = runtime_metrics.init_stats()\n",
    "log = tools.Logbook()\n",
    "hof = tools.selBest(pop, 1)\n",
    "\n",
    "# Execution number (identifier)\n",
    "NEXEC = 1\n",
    "\n",
    "# Just an exibition function on terminal\n",
    "def printProgressBar (iteration, total, prefix = '', suffix = '', decimals = 1, length = 100, fill = '|'):\n",
    "    \"\"\"\n",
    "    Call in a loop to create terminal progress bar\n",
    "    @params:\n",
    "        iteration   - Required  : current iteration (Int)\n",
    "        total       - Required  : total iterations (Int)\n",
    "        prefix      - Optional  : prefix string (Str)\n",
    "        suffix      - Optional  : suffix string (Str)\n",
    "        decimals    - Optional  : positive number of decimals in percent complete (Int)\n",
    "        length      - Optional  : character length of bar (Int)\n",
    "        fill        - Optional  : bar fill character (Str)\n",
    "    \"\"\"\n",
    "    percent = (\"{0:.\" + str(decimals) + \"f}\").format(100 * (iteration / float(total)))\n",
    "    filledLength = int(length * iteration // total)\n",
    "    bar = fill * filledLength + '-' * (length - filledLength)\n",
    "    print('\\r%s |%s| %s%% %s' % (prefix, bar, percent, suffix), end = '\\r')\n",
    "    # Print New Line on Complete\n",
    "    if iteration == total: \n",
    "        print()"
   ]
  },
  {
   "cell_type": "markdown",
   "metadata": {},
   "source": [
    "> ## Final settings\n",
    "> Select the verbosity level:  \n",
    "> - `verb = 0`: Nothing\n",
    "> - `verb = 1`: Progress bar\n",
    "> - `verb = 2`: Runtime statistics for each generation"
   ]
  },
  {
   "cell_type": "code",
   "execution_count": 12,
   "metadata": {},
   "outputs": [],
   "source": [
    "# Verbosity level\n",
    "verb = 1\n",
    "\n",
    "# Results folder\n",
    "path = 'result_GP_' + str(NEXEC) + '/'\n",
    "results_folder.verify_create_dir(path)\n",
    "\n",
    "# Log files prefix\n",
    "filename = 'GP_'+ classifier + '_' + 'NEXEC'\n",
    "balance = 1"
   ]
  },
  {
   "cell_type": "markdown",
   "metadata": {},
   "source": [
    "> ## GP starts"
   ]
  },
  {
   "cell_type": "code",
   "execution_count": 13,
   "metadata": {},
   "outputs": [
    {
     "name": "stdout",
     "output_type": "stream",
     "text": [
      ">> (Exec 1) GP + nb - Feature Selection and Construction\n",
      ">> NGEN = 50 | NPOP = 100 | MAX_DEPTH = 10 | PARAM = [None, None]\n",
      ">> Optimizing: ['f1_S']\n",
      ">> Weights:    (1,)\n",
      ">> Progress: |||||||||||||||||||||||||||||||||||||||||||||||||||| 100.0% Complete\n",
      "\n",
      ">> End (2 minutes)\n",
      "\n"
     ]
    }
   ],
   "source": [
    "if verb >= 1:\n",
    "    print(\">> (Exec \" + str(NEXEC) + \") GP + \" + classifier + \" - Feature Selection and Construction\")\n",
    "    print(\">> NGEN = \" + str(NGEN) + \" | NPOP = \" + str(NPOP) + \" | MAX_DEPTH = \" + str(TAM_MAX) + \" | PARAM = \" + str(clf_param))\n",
    "    print(\">> Optimizing: \" + str(opt_vars))\n",
    "    print(\">> Weights:    \" + str(wts_vars))\n",
    "    # if verb == 1:\n",
    "    #    sys.stdout.write(\"[%s]\" % (\" \" * toolbar_width))\n",
    "    #    sys.stdout.flush()\n",
    "    #    sys.stdout.write(\"\\b\" * (toolbar_width+1))\n",
    "    \n",
    "if verb == 1:\n",
    "    printProgressBar(0, NGEN, prefix = '>> Progress:', suffix = 'Complete', length = 50)\n",
    "\n",
    "for g in range(NGEN):\n",
    "    geninit = time.time()\n",
    "    \n",
    "    if verb == 1:\n",
    "        printProgressBar(g + 1, NGEN, prefix = '>> Progress:', suffix = 'Complete', length = 50)\n",
    "\n",
    "    pop = toolbox.select(pop, NPOP)\n",
    "\n",
    "    if USE_MULTIPROCESSING > 0:\n",
    "        offspring = list(map(toolbox.clone, pop))\n",
    "        offspring = p.map(fmate, list(zip(offspring[::2], offspring[1::2])))\n",
    "        offspring = [xx for sub in offspring for xx in sub]\n",
    "        offspring = p.map(fmutate, offspring)\n",
    "        offspring = p.map(ff, offspring)\n",
    "    else:\n",
    "        offspring = algorithms.varAnd(pop, toolbox, CXPB, MUTPB)\n",
    "        fitnesses = list(map(toolbox.evaluate, offspring))\n",
    "\n",
    "        for ind, fit in zip(offspring, fitnesses):\n",
    "            ind.fitness.values = fit\n",
    "            if (math.isnan(fit[0])):\n",
    "                ind.fitness.values = 0,\n",
    "            else:\n",
    "                ind.fitness.values = fit\n",
    "\n",
    "    hof = tools.selBest(pop, 1)\n",
    "\n",
    "    pop[:] = offspring + hof\n",
    "    log.record(gen = g, time = round(time.time() - geninit, 2),**mstats.compile(pop))\n",
    "\n",
    "    if verb == 2:\n",
    "        print(log.stream)\n",
    "\n",
    "end = time.time()\n",
    "\n",
    "total_time = end - start\n",
    "\n",
    "if verb >= 1:\n",
    "    if total_time < 60:\n",
    "        print(\"\\n>> End (\" + str(round(total_time)) + \" seconds)\\n\")\n",
    "    elif total_time < 3600:\n",
    "        print(\"\\n>> End (\" + str(round(total_time/60)) + \" minutes)\\n\")\n",
    "    else:\n",
    "        print(\"\\n>> End (\" + str(math.floor(total_time/3600)) + \" hours and \" + str(round(abs(math.floor(total_time/3600)-total_time/3600)*60)) + \" minutes)\\n\")\n",
    "\n",
    "logfile = open(os.path.join(path, \"log/LOG_\" + filename + \"_\" + str(NEXEC) + \".csv\"), 'w')\n",
    "logfile.write(str(log))\n",
    "logfile.close()\n",
    "\n",
    "prf, acc, cfm, AUC = fitness.performance(hof[0], classifier, X_train, y_train, X_test, y_test, pset, clf_param, external)\n",
    "\n",
    "info_file_name = os.path.join(path,\"infoGP.csv\")\n",
    "infoGP = open(info_file_name, 'a')\n",
    "if os.stat(info_file_name).st_size == 0:\n",
    "    infoGP.write(\"balance,DEEP MAX,classifier,P1,P2,#Exec,PPV_S,PPV_NS,TPR_S,TPR_NS,F1_S,F1_NS,SUP_S,SUP_NS,TN,FP,FN,TP,Acc,AUC,Deep,Training Time\\n\")\n",
    "\n",
    "infoGP.write(str(balance) + ',' + str(TAM_MAX) + ',' + classifier + ',' + str(clf_param[0]) + ',' + str(clf_param[1]) + ',' +  str(NEXEC) + ',' + str(prf[0][0]) + ',' \n",
    "        + str(prf[0][1]) + ',' + str(prf[1][0]) + ',' + str(prf[1][1]) + ',' + str(prf[2][0]) + ',' \n",
    "        + str(prf[2][1]) + ',' + str(prf[3][0]) + ',' + str(prf[3][1]) + ',' \n",
    "        + str(cfm[0]) + ',' + str(cfm[1]) + ',' + str(cfm[2]) + ',' + str(cfm[3]) + ',' \n",
    "        + str(acc) + ',' + str(AUC) + ',' + str(hof[0].height) + ',' + str(total_time) + '\\n')\n",
    "\n",
    "infoGP.close()\n",
    "\n",
    "tree = gp.PrimitiveTree(hof[0])\n",
    "expFILE = open(path + \"best_expr/EXPR_\" + filename + \"_\" +  str(NEXEC) + \".txt\", 'w')\n",
    "expFILE.write(str(tree))\n",
    "expFILE.close()"
   ]
  },
  {
   "cell_type": "markdown",
   "metadata": {},
   "source": [
    "> ## Visualize the best feature set created"
   ]
  },
  {
   "cell_type": "code",
   "execution_count": 14,
   "metadata": {},
   "outputs": [
    {
     "name": "stdout",
     "output_type": "stream",
     "text": [
      "7 features\n",
      "Feature 0: -ARG13**(1/4) + ARG61\n",
      "Feature 1: ARG61/ARG16\n",
      "Feature 2: ARG16\n",
      "Feature 3: ARG18\n",
      "Feature 4: ARG13\n",
      "Feature 5: ARG3\n",
      "Feature 6: ARG13**(1/4) - ARG61 + ARG67\n"
     ]
    }
   ],
   "source": [
    "features = list(set(visualize.get_equations_simplified(hof[0])))\n",
    "print(str(len(features)) + ' features')\n",
    "for i in list(range(len(features))):\n",
    "    print('Feature ' + str(i) + ': ' + str(features[i]))"
   ]
  },
  {
   "cell_type": "markdown",
   "metadata": {},
   "source": [
    "> ## Detailed performance"
   ]
  },
  {
   "cell_type": "code",
   "execution_count": 15,
   "metadata": {},
   "outputs": [
    {
     "name": "stdout",
     "output_type": "stream",
     "text": [
      "Precision:  0.6222\n",
      "Recall   :  0.7487\n",
      "F1-Score :  0.6796\n",
      "Accuracy :  0.8533\n",
      "AUC      :  0.8147\n",
      "Confusion Matrix: \n",
      " \t0   \t1   \n",
      "0\t628\t85\n",
      "1\t47\t140\n"
     ]
    }
   ],
   "source": [
    "prf, acc, cfm, AUC = fitness.performance(hof[0], classifier, X_train, y_train, X_test, y_test, pset, clf_param, external)\n",
    "print('Precision: ', round(prf[0][0], 4))\n",
    "print('Recall   : ', round(prf[1][0], 4))\n",
    "print('F1-Score : ', round(prf[2][0], 4))\n",
    "print('Accuracy : ', round(acc, 4))\n",
    "print('AUC      : ', round(AUC, 4))\n",
    "print('Confusion Matrix: ')\n",
    "print(' \\t0   \\t1   ')\n",
    "print('0\\t'+str(cfm[0])+'\\t'+str(cfm[1]))\n",
    "print('1\\t'+str(cfm[2])+'\\t'+str(cfm[3]))"
   ]
  },
  {
   "cell_type": "markdown",
   "metadata": {},
   "source": [
    "> ## Final GP tree\n",
    "If the plot appears wierd, please run this instruction twice"
   ]
  },
  {
   "cell_type": "code",
   "execution_count": 17,
   "metadata": {},
   "outputs": [
    {
     "data": {
      "image/png": "[encoded data removed]",
      "text/plain": [
       "<Figure size 1800x1152 with 1 Axes>"
      ]
     },
     "metadata": {},
     "output_type": "display_data"
    }
   ],
   "source": [
    "visualize.plot_tree(hof[0], path = path + \"best_expr/EXPR_\" + filename + \"_\" +  str(NEXEC) + \".pdf\")"
   ]
  },
  {
   "cell_type": "markdown",
   "metadata": {},
   "source": [
    "> ## Conclusion\n",
    "> Check the results folder:  \n",
    "> Runtime information at **results_GP_1/log**  \n",
    "> The best feature set and the tree plot at **results_GP_1/best_expr**  \n",
    "> The best feature set at **results_GP_1/infoGP.csv**"
   ]
  }
 ],
 "metadata": {
  "kernelspec": {
   "display_name": "Python 3",
   "language": "python",
   "name": "python3"
  },
  "language_info": {
   "codemirror_mode": {
    "name": "ipython",
    "version": 3
   },
   "file_extension": ".py",
   "mimetype": "text/x-python",
   "name": "python",
   "nbconvert_exporter": "python",
   "pygments_lexer": "ipython3",
   "version": "3.5.2"
  }
 },
 "nbformat": 4,
 "nbformat_minor": 2
}
